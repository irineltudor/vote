{
  "nbformat": 4,
  "nbformat_minor": 0,
  "metadata": {
    "colab": {
      "provenance": [],
      "collapsed_sections": [
        "IeMO5T5g43Qj",
        "kRaWsoak4bEH",
        "twusMwpiJITy",
        "1MztU8Rhp8we",
        "_i1Bcc7kvxiA"
      ]
    },
    "kernelspec": {
      "name": "python3",
      "display_name": "Python 3"
    },
    "language_info": {
      "name": "python"
    }
  },
  "cells": [
    {
      "cell_type": "markdown",
      "source": [
        "# Pip Install"
      ],
      "metadata": {
        "id": "585rX6crIeq9"
      }
    },
    {
      "cell_type": "code",
      "source": [
        "pip cache purge"
      ],
      "metadata": {
        "colab": {
          "base_uri": "https://localhost:8080/"
        },
        "id": "a8nUGiKQdiI5",
        "outputId": "fe9f27ef-b114-4ed1-dea4-2a1383a17303"
      },
      "execution_count": null,
      "outputs": [
        {
          "output_type": "stream",
          "name": "stdout",
          "text": [
            "Files removed: 39\n"
          ]
        }
      ]
    },
    {
      "cell_type": "code",
      "execution_count": null,
      "metadata": {
        "colab": {
          "base_uri": "https://localhost:8080/"
        },
        "id": "-TqlCf5vENzb",
        "outputId": "61b1e10c-6a40-48e1-8f15-20bc3b9c94f0"
      },
      "outputs": [
        {
          "output_type": "stream",
          "name": "stdout",
          "text": [
            "Requirement already satisfied: google-cloud-firestore in /usr/local/lib/python3.10/dist-packages (2.11.1)\n",
            "Requirement already satisfied: google-api-core[grpc]!=2.0.*,!=2.1.*,!=2.10.*,!=2.2.*,!=2.3.*,!=2.4.*,!=2.5.*,!=2.6.*,!=2.7.*,!=2.8.*,!=2.9.*,<3.0.0dev,>=1.34.0 in /usr/local/lib/python3.10/dist-packages (from google-cloud-firestore) (2.11.1)\n",
            "Requirement already satisfied: google-cloud-core<3.0.0dev,>=1.4.1 in /usr/local/lib/python3.10/dist-packages (from google-cloud-firestore) (2.3.3)\n",
            "Requirement already satisfied: proto-plus<2.0.0dev,>=1.22.0 in /usr/local/lib/python3.10/dist-packages (from google-cloud-firestore) (1.24.0)\n",
            "Requirement already satisfied: protobuf!=3.20.0,!=3.20.1,!=4.21.0,!=4.21.1,!=4.21.2,!=4.21.3,!=4.21.4,!=4.21.5,<5.0.0dev,>=3.19.5 in /usr/local/lib/python3.10/dist-packages (from google-cloud-firestore) (3.20.3)\n",
            "Requirement already satisfied: googleapis-common-protos<2.0.dev0,>=1.56.2 in /usr/local/lib/python3.10/dist-packages (from google-api-core[grpc]!=2.0.*,!=2.1.*,!=2.10.*,!=2.2.*,!=2.3.*,!=2.4.*,!=2.5.*,!=2.6.*,!=2.7.*,!=2.8.*,!=2.9.*,<3.0.0dev,>=1.34.0->google-cloud-firestore) (1.63.1)\n",
            "Requirement already satisfied: google-auth<3.0.dev0,>=2.14.1 in /usr/local/lib/python3.10/dist-packages (from google-api-core[grpc]!=2.0.*,!=2.1.*,!=2.10.*,!=2.2.*,!=2.3.*,!=2.4.*,!=2.5.*,!=2.6.*,!=2.7.*,!=2.8.*,!=2.9.*,<3.0.0dev,>=1.34.0->google-cloud-firestore) (2.27.0)\n",
            "Requirement already satisfied: requests<3.0.0.dev0,>=2.18.0 in /usr/local/lib/python3.10/dist-packages (from google-api-core[grpc]!=2.0.*,!=2.1.*,!=2.10.*,!=2.2.*,!=2.3.*,!=2.4.*,!=2.5.*,!=2.6.*,!=2.7.*,!=2.8.*,!=2.9.*,<3.0.0dev,>=1.34.0->google-cloud-firestore) (2.31.0)\n",
            "Requirement already satisfied: grpcio<2.0dev,>=1.33.2 in /usr/local/lib/python3.10/dist-packages (from google-api-core[grpc]!=2.0.*,!=2.1.*,!=2.10.*,!=2.2.*,!=2.3.*,!=2.4.*,!=2.5.*,!=2.6.*,!=2.7.*,!=2.8.*,!=2.9.*,<3.0.0dev,>=1.34.0->google-cloud-firestore) (1.64.1)\n",
            "Requirement already satisfied: grpcio-status<2.0.dev0,>=1.33.2 in /usr/local/lib/python3.10/dist-packages (from google-api-core[grpc]!=2.0.*,!=2.1.*,!=2.10.*,!=2.2.*,!=2.3.*,!=2.4.*,!=2.5.*,!=2.6.*,!=2.7.*,!=2.8.*,!=2.9.*,<3.0.0dev,>=1.34.0->google-cloud-firestore) (1.48.2)\n",
            "Requirement already satisfied: cachetools<6.0,>=2.0.0 in /usr/local/lib/python3.10/dist-packages (from google-auth<3.0.dev0,>=2.14.1->google-api-core[grpc]!=2.0.*,!=2.1.*,!=2.10.*,!=2.2.*,!=2.3.*,!=2.4.*,!=2.5.*,!=2.6.*,!=2.7.*,!=2.8.*,!=2.9.*,<3.0.0dev,>=1.34.0->google-cloud-firestore) (5.3.3)\n",
            "Requirement already satisfied: pyasn1-modules>=0.2.1 in /usr/local/lib/python3.10/dist-packages (from google-auth<3.0.dev0,>=2.14.1->google-api-core[grpc]!=2.0.*,!=2.1.*,!=2.10.*,!=2.2.*,!=2.3.*,!=2.4.*,!=2.5.*,!=2.6.*,!=2.7.*,!=2.8.*,!=2.9.*,<3.0.0dev,>=1.34.0->google-cloud-firestore) (0.4.0)\n",
            "Requirement already satisfied: rsa<5,>=3.1.4 in /usr/local/lib/python3.10/dist-packages (from google-auth<3.0.dev0,>=2.14.1->google-api-core[grpc]!=2.0.*,!=2.1.*,!=2.10.*,!=2.2.*,!=2.3.*,!=2.4.*,!=2.5.*,!=2.6.*,!=2.7.*,!=2.8.*,!=2.9.*,<3.0.0dev,>=1.34.0->google-cloud-firestore) (4.9)\n",
            "Requirement already satisfied: charset-normalizer<4,>=2 in /usr/local/lib/python3.10/dist-packages (from requests<3.0.0.dev0,>=2.18.0->google-api-core[grpc]!=2.0.*,!=2.1.*,!=2.10.*,!=2.2.*,!=2.3.*,!=2.4.*,!=2.5.*,!=2.6.*,!=2.7.*,!=2.8.*,!=2.9.*,<3.0.0dev,>=1.34.0->google-cloud-firestore) (3.3.2)\n",
            "Requirement already satisfied: idna<4,>=2.5 in /usr/local/lib/python3.10/dist-packages (from requests<3.0.0.dev0,>=2.18.0->google-api-core[grpc]!=2.0.*,!=2.1.*,!=2.10.*,!=2.2.*,!=2.3.*,!=2.4.*,!=2.5.*,!=2.6.*,!=2.7.*,!=2.8.*,!=2.9.*,<3.0.0dev,>=1.34.0->google-cloud-firestore) (3.7)\n",
            "Requirement already satisfied: urllib3<3,>=1.21.1 in /usr/local/lib/python3.10/dist-packages (from requests<3.0.0.dev0,>=2.18.0->google-api-core[grpc]!=2.0.*,!=2.1.*,!=2.10.*,!=2.2.*,!=2.3.*,!=2.4.*,!=2.5.*,!=2.6.*,!=2.7.*,!=2.8.*,!=2.9.*,<3.0.0dev,>=1.34.0->google-cloud-firestore) (2.0.7)\n",
            "Requirement already satisfied: certifi>=2017.4.17 in /usr/local/lib/python3.10/dist-packages (from requests<3.0.0.dev0,>=2.18.0->google-api-core[grpc]!=2.0.*,!=2.1.*,!=2.10.*,!=2.2.*,!=2.3.*,!=2.4.*,!=2.5.*,!=2.6.*,!=2.7.*,!=2.8.*,!=2.9.*,<3.0.0dev,>=1.34.0->google-cloud-firestore) (2024.6.2)\n",
            "Requirement already satisfied: pyasn1<0.7.0,>=0.4.6 in /usr/local/lib/python3.10/dist-packages (from pyasn1-modules>=0.2.1->google-auth<3.0.dev0,>=2.14.1->google-api-core[grpc]!=2.0.*,!=2.1.*,!=2.10.*,!=2.2.*,!=2.3.*,!=2.4.*,!=2.5.*,!=2.6.*,!=2.7.*,!=2.8.*,!=2.9.*,<3.0.0dev,>=1.34.0->google-cloud-firestore) (0.6.0)\n"
          ]
        }
      ],
      "source": [
        "pip install google-cloud-firestore"
      ]
    },
    {
      "cell_type": "code",
      "source": [
        "pip install firebase_admin"
      ],
      "metadata": {
        "colab": {
          "base_uri": "https://localhost:8080/"
        },
        "id": "kGE8nC4AIZ7h",
        "outputId": "2b899a16-2c55-4915-d80b-2ff48c13d537"
      },
      "execution_count": null,
      "outputs": [
        {
          "output_type": "stream",
          "name": "stdout",
          "text": [
            "Requirement already satisfied: firebase_admin in /usr/local/lib/python3.10/dist-packages (5.3.0)\n",
            "Requirement already satisfied: cachecontrol>=0.12.6 in /usr/local/lib/python3.10/dist-packages (from firebase_admin) (0.14.0)\n",
            "Requirement already satisfied: google-api-python-client>=1.7.8 in /usr/local/lib/python3.10/dist-packages (from firebase_admin) (2.84.0)\n",
            "Requirement already satisfied: google-cloud-storage>=1.37.1 in /usr/local/lib/python3.10/dist-packages (from firebase_admin) (2.8.0)\n",
            "Requirement already satisfied: google-api-core[grpc]<3.0.0dev,>=1.22.1 in /usr/local/lib/python3.10/dist-packages (from firebase_admin) (2.11.1)\n",
            "Requirement already satisfied: google-cloud-firestore>=2.1.0 in /usr/local/lib/python3.10/dist-packages (from firebase_admin) (2.11.1)\n",
            "Requirement already satisfied: requests>=2.16.0 in /usr/local/lib/python3.10/dist-packages (from cachecontrol>=0.12.6->firebase_admin) (2.31.0)\n",
            "Requirement already satisfied: msgpack<2.0.0,>=0.5.2 in /usr/local/lib/python3.10/dist-packages (from cachecontrol>=0.12.6->firebase_admin) (1.0.8)\n",
            "Requirement already satisfied: googleapis-common-protos<2.0.dev0,>=1.56.2 in /usr/local/lib/python3.10/dist-packages (from google-api-core[grpc]<3.0.0dev,>=1.22.1->firebase_admin) (1.63.1)\n",
            "Requirement already satisfied: protobuf!=3.20.0,!=3.20.1,!=4.21.0,!=4.21.1,!=4.21.2,!=4.21.3,!=4.21.4,!=4.21.5,<5.0.0.dev0,>=3.19.5 in /usr/local/lib/python3.10/dist-packages (from google-api-core[grpc]<3.0.0dev,>=1.22.1->firebase_admin) (3.20.3)\n",
            "Requirement already satisfied: google-auth<3.0.dev0,>=2.14.1 in /usr/local/lib/python3.10/dist-packages (from google-api-core[grpc]<3.0.0dev,>=1.22.1->firebase_admin) (2.27.0)\n",
            "Requirement already satisfied: grpcio<2.0dev,>=1.33.2 in /usr/local/lib/python3.10/dist-packages (from google-api-core[grpc]<3.0.0dev,>=1.22.1->firebase_admin) (1.64.1)\n",
            "Requirement already satisfied: grpcio-status<2.0.dev0,>=1.33.2 in /usr/local/lib/python3.10/dist-packages (from google-api-core[grpc]<3.0.0dev,>=1.22.1->firebase_admin) (1.48.2)\n",
            "Requirement already satisfied: httplib2<1dev,>=0.15.0 in /usr/local/lib/python3.10/dist-packages (from google-api-python-client>=1.7.8->firebase_admin) (0.22.0)\n",
            "Requirement already satisfied: google-auth-httplib2>=0.1.0 in /usr/local/lib/python3.10/dist-packages (from google-api-python-client>=1.7.8->firebase_admin) (0.1.1)\n",
            "Requirement already satisfied: uritemplate<5,>=3.0.1 in /usr/local/lib/python3.10/dist-packages (from google-api-python-client>=1.7.8->firebase_admin) (4.1.1)\n",
            "Requirement already satisfied: google-cloud-core<3.0.0dev,>=1.4.1 in /usr/local/lib/python3.10/dist-packages (from google-cloud-firestore>=2.1.0->firebase_admin) (2.3.3)\n",
            "Requirement already satisfied: proto-plus<2.0.0dev,>=1.22.0 in /usr/local/lib/python3.10/dist-packages (from google-cloud-firestore>=2.1.0->firebase_admin) (1.24.0)\n",
            "Requirement already satisfied: google-resumable-media>=2.3.2 in /usr/local/lib/python3.10/dist-packages (from google-cloud-storage>=1.37.1->firebase_admin) (2.7.1)\n",
            "Requirement already satisfied: cachetools<6.0,>=2.0.0 in /usr/local/lib/python3.10/dist-packages (from google-auth<3.0.dev0,>=2.14.1->google-api-core[grpc]<3.0.0dev,>=1.22.1->firebase_admin) (5.3.3)\n",
            "Requirement already satisfied: pyasn1-modules>=0.2.1 in /usr/local/lib/python3.10/dist-packages (from google-auth<3.0.dev0,>=2.14.1->google-api-core[grpc]<3.0.0dev,>=1.22.1->firebase_admin) (0.4.0)\n",
            "Requirement already satisfied: rsa<5,>=3.1.4 in /usr/local/lib/python3.10/dist-packages (from google-auth<3.0.dev0,>=2.14.1->google-api-core[grpc]<3.0.0dev,>=1.22.1->firebase_admin) (4.9)\n",
            "Requirement already satisfied: google-crc32c<2.0dev,>=1.0 in /usr/local/lib/python3.10/dist-packages (from google-resumable-media>=2.3.2->google-cloud-storage>=1.37.1->firebase_admin) (1.5.0)\n",
            "Requirement already satisfied: pyparsing!=3.0.0,!=3.0.1,!=3.0.2,!=3.0.3,<4,>=2.4.2 in /usr/local/lib/python3.10/dist-packages (from httplib2<1dev,>=0.15.0->google-api-python-client>=1.7.8->firebase_admin) (3.1.2)\n",
            "Requirement already satisfied: charset-normalizer<4,>=2 in /usr/local/lib/python3.10/dist-packages (from requests>=2.16.0->cachecontrol>=0.12.6->firebase_admin) (3.3.2)\n",
            "Requirement already satisfied: idna<4,>=2.5 in /usr/local/lib/python3.10/dist-packages (from requests>=2.16.0->cachecontrol>=0.12.6->firebase_admin) (3.7)\n",
            "Requirement already satisfied: urllib3<3,>=1.21.1 in /usr/local/lib/python3.10/dist-packages (from requests>=2.16.0->cachecontrol>=0.12.6->firebase_admin) (2.0.7)\n",
            "Requirement already satisfied: certifi>=2017.4.17 in /usr/local/lib/python3.10/dist-packages (from requests>=2.16.0->cachecontrol>=0.12.6->firebase_admin) (2024.6.2)\n",
            "Requirement already satisfied: pyasn1<0.7.0,>=0.4.6 in /usr/local/lib/python3.10/dist-packages (from pyasn1-modules>=0.2.1->google-auth<3.0.dev0,>=2.14.1->google-api-core[grpc]<3.0.0dev,>=1.22.1->firebase_admin) (0.6.0)\n"
          ]
        }
      ]
    },
    {
      "cell_type": "code",
      "source": [
        "pip install --upgrade firebase-admin google-cloud-firestore"
      ],
      "metadata": {
        "colab": {
          "base_uri": "https://localhost:8080/",
          "height": 1000
        },
        "id": "VF8x7I9gYU-v",
        "outputId": "bf86f9cb-07d3-49a4-bc97-929ea8b319cd"
      },
      "execution_count": null,
      "outputs": [
        {
          "output_type": "stream",
          "name": "stdout",
          "text": [
            "Requirement already satisfied: firebase-admin in /usr/local/lib/python3.10/dist-packages (5.3.0)\n",
            "Collecting firebase-admin\n",
            "  Downloading firebase_admin-6.5.0-py3-none-any.whl (126 kB)\n",
            "\u001b[2K     \u001b[90m━━━━━━━━━━━━━━━━━━━━━━━━━━━━━━━━━━━━━━━━\u001b[0m \u001b[32m126.3/126.3 kB\u001b[0m \u001b[31m2.8 MB/s\u001b[0m eta \u001b[36m0:00:00\u001b[0m\n",
            "\u001b[?25hRequirement already satisfied: google-cloud-firestore in /usr/local/lib/python3.10/dist-packages (2.11.1)\n",
            "Collecting google-cloud-firestore\n",
            "  Downloading google_cloud_firestore-2.16.1-py2.py3-none-any.whl (317 kB)\n",
            "\u001b[2K     \u001b[90m━━━━━━━━━━━━━━━━━━━━━━━━━━━━━━━━━━━━━━━━\u001b[0m \u001b[32m317.3/317.3 kB\u001b[0m \u001b[31m21.7 MB/s\u001b[0m eta \u001b[36m0:00:00\u001b[0m\n",
            "\u001b[?25hRequirement already satisfied: cachecontrol>=0.12.6 in /usr/local/lib/python3.10/dist-packages (from firebase-admin) (0.14.0)\n",
            "Requirement already satisfied: google-api-python-client>=1.7.8 in /usr/local/lib/python3.10/dist-packages (from firebase-admin) (2.84.0)\n",
            "Requirement already satisfied: google-cloud-storage>=1.37.1 in /usr/local/lib/python3.10/dist-packages (from firebase-admin) (2.8.0)\n",
            "Collecting pyjwt[crypto]>=2.5.0 (from firebase-admin)\n",
            "  Downloading PyJWT-2.8.0-py3-none-any.whl (22 kB)\n",
            "Requirement already satisfied: google-api-core[grpc]<3.0.0dev,>=1.22.1 in /usr/local/lib/python3.10/dist-packages (from firebase-admin) (2.11.1)\n",
            "Requirement already satisfied: google-auth!=2.24.0,!=2.25.0,<3.0.0dev,>=2.14.1 in /usr/local/lib/python3.10/dist-packages (from google-cloud-firestore) (2.27.0)\n",
            "Requirement already satisfied: google-cloud-core<3.0.0dev,>=1.4.1 in /usr/local/lib/python3.10/dist-packages (from google-cloud-firestore) (2.3.3)\n",
            "Requirement already satisfied: proto-plus<2.0.0dev,>=1.22.0 in /usr/local/lib/python3.10/dist-packages (from google-cloud-firestore) (1.24.0)\n",
            "Requirement already satisfied: protobuf!=3.20.0,!=3.20.1,!=4.21.0,!=4.21.1,!=4.21.2,!=4.21.3,!=4.21.4,!=4.21.5,<5.0.0dev,>=3.19.5 in /usr/local/lib/python3.10/dist-packages (from google-cloud-firestore) (3.20.3)\n",
            "Requirement already satisfied: requests>=2.16.0 in /usr/local/lib/python3.10/dist-packages (from cachecontrol>=0.12.6->firebase-admin) (2.31.0)\n",
            "Requirement already satisfied: msgpack<2.0.0,>=0.5.2 in /usr/local/lib/python3.10/dist-packages (from cachecontrol>=0.12.6->firebase-admin) (1.0.8)\n",
            "Requirement already satisfied: googleapis-common-protos<2.0.dev0,>=1.56.2 in /usr/local/lib/python3.10/dist-packages (from google-api-core[grpc]<3.0.0dev,>=1.22.1->firebase-admin) (1.63.1)\n",
            "Requirement already satisfied: grpcio<2.0dev,>=1.33.2 in /usr/local/lib/python3.10/dist-packages (from google-api-core[grpc]<3.0.0dev,>=1.22.1->firebase-admin) (1.64.1)\n",
            "Requirement already satisfied: grpcio-status<2.0.dev0,>=1.33.2 in /usr/local/lib/python3.10/dist-packages (from google-api-core[grpc]<3.0.0dev,>=1.22.1->firebase-admin) (1.48.2)\n",
            "Requirement already satisfied: httplib2<1dev,>=0.15.0 in /usr/local/lib/python3.10/dist-packages (from google-api-python-client>=1.7.8->firebase-admin) (0.22.0)\n",
            "Requirement already satisfied: google-auth-httplib2>=0.1.0 in /usr/local/lib/python3.10/dist-packages (from google-api-python-client>=1.7.8->firebase-admin) (0.1.1)\n",
            "Requirement already satisfied: uritemplate<5,>=3.0.1 in /usr/local/lib/python3.10/dist-packages (from google-api-python-client>=1.7.8->firebase-admin) (4.1.1)\n",
            "Requirement already satisfied: cachetools<6.0,>=2.0.0 in /usr/local/lib/python3.10/dist-packages (from google-auth!=2.24.0,!=2.25.0,<3.0.0dev,>=2.14.1->google-cloud-firestore) (5.3.3)\n",
            "Requirement already satisfied: pyasn1-modules>=0.2.1 in /usr/local/lib/python3.10/dist-packages (from google-auth!=2.24.0,!=2.25.0,<3.0.0dev,>=2.14.1->google-cloud-firestore) (0.4.0)\n",
            "Requirement already satisfied: rsa<5,>=3.1.4 in /usr/local/lib/python3.10/dist-packages (from google-auth!=2.24.0,!=2.25.0,<3.0.0dev,>=2.14.1->google-cloud-firestore) (4.9)\n",
            "Requirement already satisfied: google-resumable-media>=2.3.2 in /usr/local/lib/python3.10/dist-packages (from google-cloud-storage>=1.37.1->firebase-admin) (2.7.1)\n",
            "Requirement already satisfied: cryptography>=3.4.0 in /usr/local/lib/python3.10/dist-packages (from pyjwt[crypto]>=2.5.0->firebase-admin) (42.0.8)\n",
            "Requirement already satisfied: cffi>=1.12 in /usr/local/lib/python3.10/dist-packages (from cryptography>=3.4.0->pyjwt[crypto]>=2.5.0->firebase-admin) (1.16.0)\n",
            "Requirement already satisfied: google-crc32c<2.0dev,>=1.0 in /usr/local/lib/python3.10/dist-packages (from google-resumable-media>=2.3.2->google-cloud-storage>=1.37.1->firebase-admin) (1.5.0)\n",
            "Requirement already satisfied: pyparsing!=3.0.0,!=3.0.1,!=3.0.2,!=3.0.3,<4,>=2.4.2 in /usr/local/lib/python3.10/dist-packages (from httplib2<1dev,>=0.15.0->google-api-python-client>=1.7.8->firebase-admin) (3.1.2)\n",
            "Requirement already satisfied: pyasn1<0.7.0,>=0.4.6 in /usr/local/lib/python3.10/dist-packages (from pyasn1-modules>=0.2.1->google-auth!=2.24.0,!=2.25.0,<3.0.0dev,>=2.14.1->google-cloud-firestore) (0.6.0)\n",
            "Requirement already satisfied: charset-normalizer<4,>=2 in /usr/local/lib/python3.10/dist-packages (from requests>=2.16.0->cachecontrol>=0.12.6->firebase-admin) (3.3.2)\n",
            "Requirement already satisfied: idna<4,>=2.5 in /usr/local/lib/python3.10/dist-packages (from requests>=2.16.0->cachecontrol>=0.12.6->firebase-admin) (3.7)\n",
            "Requirement already satisfied: urllib3<3,>=1.21.1 in /usr/local/lib/python3.10/dist-packages (from requests>=2.16.0->cachecontrol>=0.12.6->firebase-admin) (2.0.7)\n",
            "Requirement already satisfied: certifi>=2017.4.17 in /usr/local/lib/python3.10/dist-packages (from requests>=2.16.0->cachecontrol>=0.12.6->firebase-admin) (2024.6.2)\n",
            "Requirement already satisfied: pycparser in /usr/local/lib/python3.10/dist-packages (from cffi>=1.12->cryptography>=3.4.0->pyjwt[crypto]>=2.5.0->firebase-admin) (2.22)\n",
            "Installing collected packages: pyjwt, google-cloud-firestore, firebase-admin\n",
            "  Attempting uninstall: pyjwt\n",
            "    Found existing installation: PyJWT 2.3.0\n",
            "    Uninstalling PyJWT-2.3.0:\n",
            "      Successfully uninstalled PyJWT-2.3.0\n",
            "  Attempting uninstall: google-cloud-firestore\n",
            "    Found existing installation: google-cloud-firestore 2.11.1\n",
            "    Uninstalling google-cloud-firestore-2.11.1:\n",
            "      Successfully uninstalled google-cloud-firestore-2.11.1\n",
            "  Attempting uninstall: firebase-admin\n",
            "    Found existing installation: firebase-admin 5.3.0\n",
            "    Uninstalling firebase-admin-5.3.0:\n",
            "      Successfully uninstalled firebase-admin-5.3.0\n",
            "Successfully installed firebase-admin-6.5.0 google-cloud-firestore-2.16.1 pyjwt-2.8.0\n"
          ]
        },
        {
          "output_type": "display_data",
          "data": {
            "application/vnd.colab-display-data+json": {
              "pip_warning": {
                "packages": [
                  "google"
                ]
              },
              "id": "aa26419be008470a860e1bc21eb4aa0c"
            }
          },
          "metadata": {}
        }
      ]
    },
    {
      "cell_type": "code",
      "source": [
        "pip install web3"
      ],
      "metadata": {
        "colab": {
          "base_uri": "https://localhost:8080/"
        },
        "id": "jqfoBu1fqMj3",
        "outputId": "cfada6a9-e8fa-4900-d79a-0ff9fd7864ef"
      },
      "execution_count": null,
      "outputs": [
        {
          "output_type": "stream",
          "name": "stdout",
          "text": [
            "Collecting web3\n",
            "  Downloading web3-6.20.0-py3-none-any.whl (1.6 MB)\n",
            "\u001b[2K     \u001b[90m━━━━━━━━━━━━━━━━━━━━━━━━━━━━━━━━━━━━━━━━\u001b[0m \u001b[32m1.6/1.6 MB\u001b[0m \u001b[31m8.9 MB/s\u001b[0m eta \u001b[36m0:00:00\u001b[0m\n",
            "\u001b[?25hRequirement already satisfied: aiohttp>=3.7.4.post0 in /usr/local/lib/python3.10/dist-packages (from web3) (3.9.5)\n",
            "Collecting eth-abi>=4.0.0 (from web3)\n",
            "  Downloading eth_abi-5.1.0-py3-none-any.whl (29 kB)\n",
            "Collecting eth-account<0.13,>=0.8.0 (from web3)\n",
            "  Downloading eth_account-0.12.3-py3-none-any.whl (355 kB)\n",
            "\u001b[2K     \u001b[90m━━━━━━━━━━━━━━━━━━━━━━━━━━━━━━━━━━━━━━━━\u001b[0m \u001b[32m356.0/356.0 kB\u001b[0m \u001b[31m13.0 MB/s\u001b[0m eta \u001b[36m0:00:00\u001b[0m\n",
            "\u001b[?25hCollecting eth-hash[pycryptodome]>=0.5.1 (from web3)\n",
            "  Downloading eth_hash-0.7.0-py3-none-any.whl (8.7 kB)\n",
            "Collecting eth-typing!=4.2.0,>=3.0.0 (from web3)\n",
            "  Downloading eth_typing-4.3.1-py3-none-any.whl (19 kB)\n",
            "Collecting eth-utils>=2.1.0 (from web3)\n",
            "  Downloading eth_utils-4.1.1-py3-none-any.whl (96 kB)\n",
            "\u001b[2K     \u001b[90m━━━━━━━━━━━━━━━━━━━━━━━━━━━━━━━━━━━━━━━━\u001b[0m \u001b[32m96.0/96.0 kB\u001b[0m \u001b[31m10.9 MB/s\u001b[0m eta \u001b[36m0:00:00\u001b[0m\n",
            "\u001b[?25hCollecting hexbytes<0.4.0,>=0.1.0 (from web3)\n",
            "  Downloading hexbytes-0.3.1-py3-none-any.whl (5.9 kB)\n",
            "Requirement already satisfied: jsonschema>=4.0.0 in /usr/local/lib/python3.10/dist-packages (from web3) (4.19.2)\n",
            "Collecting lru-dict<1.3.0,>=1.1.6 (from web3)\n",
            "  Downloading lru_dict-1.2.0-cp310-cp310-manylinux_2_5_x86_64.manylinux1_x86_64.manylinux_2_17_x86_64.manylinux2014_x86_64.whl (28 kB)\n",
            "Collecting protobuf>=4.21.6 (from web3)\n",
            "  Downloading protobuf-5.27.2-cp38-abi3-manylinux2014_x86_64.whl (309 kB)\n",
            "\u001b[2K     \u001b[90m━━━━━━━━━━━━━━━━━━━━━━━━━━━━━━━━━━━━━━━━\u001b[0m \u001b[32m309.3/309.3 kB\u001b[0m \u001b[31m12.5 MB/s\u001b[0m eta \u001b[36m0:00:00\u001b[0m\n",
            "\u001b[?25hRequirement already satisfied: requests>=2.16.0 in /usr/local/lib/python3.10/dist-packages (from web3) (2.31.0)\n",
            "Requirement already satisfied: typing-extensions>=4.0.1 in /usr/local/lib/python3.10/dist-packages (from web3) (4.12.2)\n",
            "Collecting websockets>=10.0.0 (from web3)\n",
            "  Downloading websockets-12.0-cp310-cp310-manylinux_2_5_x86_64.manylinux1_x86_64.manylinux_2_17_x86_64.manylinux2014_x86_64.whl (130 kB)\n",
            "\u001b[2K     \u001b[90m━━━━━━━━━━━━━━━━━━━━━━━━━━━━━━━━━━━━━━━━\u001b[0m \u001b[32m130.2/130.2 kB\u001b[0m \u001b[31m14.6 MB/s\u001b[0m eta \u001b[36m0:00:00\u001b[0m\n",
            "\u001b[?25hCollecting pyunormalize>=15.0.0 (from web3)\n",
            "  Downloading pyunormalize-15.1.0.tar.gz (515 kB)\n",
            "\u001b[2K     \u001b[90m━━━━━━━━━━━━━━━━━━━━━━━━━━━━━━━━━━━━━━━━\u001b[0m \u001b[32m515.5/515.5 kB\u001b[0m \u001b[31m14.6 MB/s\u001b[0m eta \u001b[36m0:00:00\u001b[0m\n",
            "\u001b[?25h  Preparing metadata (setup.py) ... \u001b[?25l\u001b[?25hdone\n",
            "Requirement already satisfied: aiosignal>=1.1.2 in /usr/local/lib/python3.10/dist-packages (from aiohttp>=3.7.4.post0->web3) (1.3.1)\n",
            "Requirement already satisfied: attrs>=17.3.0 in /usr/local/lib/python3.10/dist-packages (from aiohttp>=3.7.4.post0->web3) (23.2.0)\n",
            "Requirement already satisfied: frozenlist>=1.1.1 in /usr/local/lib/python3.10/dist-packages (from aiohttp>=3.7.4.post0->web3) (1.4.1)\n",
            "Requirement already satisfied: multidict<7.0,>=4.5 in /usr/local/lib/python3.10/dist-packages (from aiohttp>=3.7.4.post0->web3) (6.0.5)\n",
            "Requirement already satisfied: yarl<2.0,>=1.0 in /usr/local/lib/python3.10/dist-packages (from aiohttp>=3.7.4.post0->web3) (1.9.4)\n",
            "Requirement already satisfied: async-timeout<5.0,>=4.0 in /usr/local/lib/python3.10/dist-packages (from aiohttp>=3.7.4.post0->web3) (4.0.3)\n",
            "Collecting parsimonious<0.11.0,>=0.10.0 (from eth-abi>=4.0.0->web3)\n",
            "  Downloading parsimonious-0.10.0-py3-none-any.whl (48 kB)\n",
            "\u001b[2K     \u001b[90m━━━━━━━━━━━━━━━━━━━━━━━━━━━━━━━━━━━━━━━━\u001b[0m \u001b[32m48.4/48.4 kB\u001b[0m \u001b[31m5.0 MB/s\u001b[0m eta \u001b[36m0:00:00\u001b[0m\n",
            "\u001b[?25hCollecting bitarray>=2.4.0 (from eth-account<0.13,>=0.8.0->web3)\n",
            "  Downloading bitarray-2.9.2-cp310-cp310-manylinux_2_17_x86_64.manylinux2014_x86_64.whl (288 kB)\n",
            "\u001b[2K     \u001b[90m━━━━━━━━━━━━━━━━━━━━━━━━━━━━━━━━━━━━━━━━\u001b[0m \u001b[32m288.3/288.3 kB\u001b[0m \u001b[31m17.1 MB/s\u001b[0m eta \u001b[36m0:00:00\u001b[0m\n",
            "\u001b[?25hCollecting eth-keyfile>=0.6.0 (from eth-account<0.13,>=0.8.0->web3)\n",
            "  Downloading eth_keyfile-0.8.1-py3-none-any.whl (7.5 kB)\n",
            "Collecting eth-keys>=0.4.0 (from eth-account<0.13,>=0.8.0->web3)\n",
            "  Downloading eth_keys-0.5.1-py3-none-any.whl (21 kB)\n",
            "Collecting eth-rlp>=2.1.0 (from eth-account<0.13,>=0.8.0->web3)\n",
            "  Downloading eth_rlp-2.1.0-py3-none-any.whl (5.1 kB)\n",
            "INFO: pip is looking at multiple versions of eth-account to determine which version is compatible with other requirements. This could take a while.\n",
            "Collecting eth-account<0.13,>=0.8.0 (from web3)\n",
            "  Downloading eth_account-0.12.2-py3-none-any.whl (355 kB)\n",
            "\u001b[2K     \u001b[90m━━━━━━━━━━━━━━━━━━━━━━━━━━━━━━━━━━━━━━━━\u001b[0m \u001b[32m355.7/355.7 kB\u001b[0m \u001b[31m18.8 MB/s\u001b[0m eta \u001b[36m0:00:00\u001b[0m\n",
            "\u001b[?25h  Downloading eth_account-0.12.1-py3-none-any.whl (355 kB)\n",
            "\u001b[2K     \u001b[90m━━━━━━━━━━━━━━━━━━━━━━━━━━━━━━━━━━━━━━━━\u001b[0m \u001b[32m355.1/355.1 kB\u001b[0m \u001b[31m19.0 MB/s\u001b[0m eta \u001b[36m0:00:00\u001b[0m\n",
            "\u001b[?25h  Downloading eth_account-0.12.0-py3-none-any.whl (354 kB)\n",
            "\u001b[2K     \u001b[90m━━━━━━━━━━━━━━━━━━━━━━━━━━━━━━━━━━━━━━━━\u001b[0m \u001b[32m354.9/354.9 kB\u001b[0m \u001b[31m18.5 MB/s\u001b[0m eta \u001b[36m0:00:00\u001b[0m\n",
            "\u001b[?25h  Downloading eth_account-0.11.2-py3-none-any.whl (355 kB)\n",
            "\u001b[2K     \u001b[90m━━━━━━━━━━━━━━━━━━━━━━━━━━━━━━━━━━━━━━━━\u001b[0m \u001b[32m355.4/355.4 kB\u001b[0m \u001b[31m17.9 MB/s\u001b[0m eta \u001b[36m0:00:00\u001b[0m\n",
            "\u001b[?25hCollecting rlp>=1.0.0 (from eth-account<0.13,>=0.8.0->web3)\n",
            "  Downloading rlp-4.0.1-py3-none-any.whl (20 kB)\n",
            "Collecting ckzg>=0.4.3 (from eth-account<0.13,>=0.8.0->web3)\n",
            "  Downloading ckzg-1.0.2-cp310-cp310-manylinux_2_17_x86_64.manylinux2014_x86_64.whl (139 kB)\n",
            "\u001b[2K     \u001b[90m━━━━━━━━━━━━━━━━━━━━━━━━━━━━━━━━━━━━━━━━\u001b[0m \u001b[32m139.8/139.8 kB\u001b[0m \u001b[31m14.1 MB/s\u001b[0m eta \u001b[36m0:00:00\u001b[0m\n",
            "\u001b[?25hCollecting pycryptodome<4,>=3.6.6 (from eth-hash[pycryptodome]>=0.5.1->web3)\n",
            "  Downloading pycryptodome-3.20.0-cp35-abi3-manylinux_2_17_x86_64.manylinux2014_x86_64.whl (2.1 MB)\n",
            "\u001b[2K     \u001b[90m━━━━━━━━━━━━━━━━━━━━━━━━━━━━━━━━━━━━━━━━\u001b[0m \u001b[32m2.1/2.1 MB\u001b[0m \u001b[31m29.8 MB/s\u001b[0m eta \u001b[36m0:00:00\u001b[0m\n",
            "\u001b[?25hCollecting cytoolz>=0.10.1 (from eth-utils>=2.1.0->web3)\n",
            "  Downloading cytoolz-0.12.3-cp310-cp310-manylinux_2_17_x86_64.manylinux2014_x86_64.whl (2.0 MB)\n",
            "\u001b[2K     \u001b[90m━━━━━━━━━━━━━━━━━━━━━━━━━━━━━━━━━━━━━━━━\u001b[0m \u001b[32m2.0/2.0 MB\u001b[0m \u001b[31m37.2 MB/s\u001b[0m eta \u001b[36m0:00:00\u001b[0m\n",
            "\u001b[?25hRequirement already satisfied: jsonschema-specifications>=2023.03.6 in /usr/local/lib/python3.10/dist-packages (from jsonschema>=4.0.0->web3) (2023.12.1)\n",
            "Requirement already satisfied: referencing>=0.28.4 in /usr/local/lib/python3.10/dist-packages (from jsonschema>=4.0.0->web3) (0.35.1)\n",
            "Requirement already satisfied: rpds-py>=0.7.1 in /usr/local/lib/python3.10/dist-packages (from jsonschema>=4.0.0->web3) (0.18.1)\n",
            "Requirement already satisfied: charset-normalizer<4,>=2 in /usr/local/lib/python3.10/dist-packages (from requests>=2.16.0->web3) (3.3.2)\n",
            "Requirement already satisfied: idna<4,>=2.5 in /usr/local/lib/python3.10/dist-packages (from requests>=2.16.0->web3) (3.7)\n",
            "Requirement already satisfied: urllib3<3,>=1.21.1 in /usr/local/lib/python3.10/dist-packages (from requests>=2.16.0->web3) (2.0.7)\n",
            "Requirement already satisfied: certifi>=2017.4.17 in /usr/local/lib/python3.10/dist-packages (from requests>=2.16.0->web3) (2024.6.2)\n",
            "Requirement already satisfied: toolz>=0.8.0 in /usr/local/lib/python3.10/dist-packages (from cytoolz>=0.10.1->eth-utils>=2.1.0->web3) (0.12.1)\n",
            "INFO: pip is looking at multiple versions of eth-rlp to determine which version is compatible with other requirements. This could take a while.\n",
            "Collecting eth-rlp>=0.3.0 (from eth-account<0.13,>=0.8.0->web3)\n",
            "  Downloading eth_rlp-2.0.0-py3-none-any.whl (5.1 kB)\n",
            "  Downloading eth_rlp-1.0.1-py3-none-any.whl (4.9 kB)\n",
            "Requirement already satisfied: regex>=2022.3.15 in /usr/local/lib/python3.10/dist-packages (from parsimonious<0.11.0,>=0.10.0->eth-abi>=4.0.0->web3) (2024.5.15)\n",
            "Building wheels for collected packages: pyunormalize\n",
            "  Building wheel for pyunormalize (setup.py) ... \u001b[?25l\u001b[?25hdone\n",
            "  Created wheel for pyunormalize: filename=pyunormalize-15.1.0-py3-none-any.whl size=516032 sha256=cf704dbb860335eec672a349e40e056c32476bb1c63ee4e0652d38fdacd2a6d5\n",
            "  Stored in directory: /root/.cache/pip/wheels/b8/b6/c6/6fc11f58d3fd02f387cf3b18479bb5c6d4143995d0fa401622\n",
            "Successfully built pyunormalize\n",
            "Installing collected packages: lru-dict, ckzg, bitarray, websockets, pyunormalize, pycryptodome, protobuf, parsimonious, hexbytes, eth-typing, eth-hash, cytoolz, eth-utils, rlp, eth-keys, eth-abi, eth-rlp, eth-keyfile, eth-account, web3\n",
            "  Attempting uninstall: protobuf\n",
            "    Found existing installation: protobuf 3.20.3\n",
            "    Uninstalling protobuf-3.20.3:\n",
            "      Successfully uninstalled protobuf-3.20.3\n",
            "\u001b[31mERROR: pip's dependency resolver does not currently take into account all the packages that are installed. This behaviour is the source of the following dependency conflicts.\n",
            "cudf-cu12 24.4.1 requires protobuf<5,>=3.20, but you have protobuf 5.27.2 which is incompatible.\n",
            "google-ai-generativelanguage 0.6.4 requires protobuf!=3.20.0,!=3.20.1,!=4.21.0,!=4.21.1,!=4.21.2,!=4.21.3,!=4.21.4,!=4.21.5,<5.0.0dev,>=3.19.5, but you have protobuf 5.27.2 which is incompatible.\n",
            "google-api-core 2.11.1 requires protobuf!=3.20.0,!=3.20.1,!=4.21.0,!=4.21.1,!=4.21.2,!=4.21.3,!=4.21.4,!=4.21.5,<5.0.0.dev0,>=3.19.5, but you have protobuf 5.27.2 which is incompatible.\n",
            "google-cloud-aiplatform 1.56.0 requires protobuf!=3.20.0,!=3.20.1,!=4.21.0,!=4.21.1,!=4.21.2,!=4.21.3,!=4.21.4,!=4.21.5,<5.0.0dev,>=3.19.5, but you have protobuf 5.27.2 which is incompatible.\n",
            "google-cloud-bigquery-connection 1.12.1 requires protobuf!=3.20.0,!=3.20.1,!=4.21.0,!=4.21.1,!=4.21.2,!=4.21.3,!=4.21.4,!=4.21.5,<5.0.0dev,>=3.19.5, but you have protobuf 5.27.2 which is incompatible.\n",
            "google-cloud-bigquery-storage 2.25.0 requires protobuf!=3.20.0,!=3.20.1,!=4.21.0,!=4.21.1,!=4.21.2,!=4.21.3,!=4.21.4,!=4.21.5,<5.0.0dev,>=3.19.5, but you have protobuf 5.27.2 which is incompatible.\n",
            "google-cloud-datastore 2.15.2 requires protobuf!=3.20.0,!=3.20.1,!=4.21.0,!=4.21.1,!=4.21.2,!=4.21.3,!=4.21.4,!=4.21.5,<5.0.0dev,>=3.19.5, but you have protobuf 5.27.2 which is incompatible.\n",
            "google-cloud-firestore 2.16.1 requires protobuf!=3.20.0,!=3.20.1,!=4.21.0,!=4.21.1,!=4.21.2,!=4.21.3,!=4.21.4,!=4.21.5,<5.0.0dev,>=3.19.5, but you have protobuf 5.27.2 which is incompatible.\n",
            "google-cloud-functions 1.13.3 requires protobuf!=3.20.0,!=3.20.1,!=4.21.0,!=4.21.1,!=4.21.2,!=4.21.3,!=4.21.4,!=4.21.5,<5.0.0dev,>=3.19.5, but you have protobuf 5.27.2 which is incompatible.\n",
            "google-cloud-iam 2.15.0 requires protobuf!=3.20.0,!=3.20.1,!=4.21.0,!=4.21.1,!=4.21.2,!=4.21.3,!=4.21.4,!=4.21.5,<5.0.0dev,>=3.19.5, but you have protobuf 5.27.2 which is incompatible.\n",
            "google-cloud-language 2.13.3 requires protobuf!=3.20.0,!=3.20.1,!=4.21.0,!=4.21.1,!=4.21.2,!=4.21.3,!=4.21.4,!=4.21.5,<5.0.0dev,>=3.19.5, but you have protobuf 5.27.2 which is incompatible.\n",
            "google-cloud-resource-manager 1.12.3 requires protobuf!=3.20.0,!=3.20.1,!=4.21.0,!=4.21.1,!=4.21.2,!=4.21.3,!=4.21.4,!=4.21.5,<5.0.0dev,>=3.19.5, but you have protobuf 5.27.2 which is incompatible.\n",
            "google-cloud-translate 3.11.3 requires protobuf!=3.20.0,!=3.20.1,!=4.21.0,!=4.21.1,!=4.21.2,!=4.21.3,!=4.21.4,!=4.21.5,<5.0.0dev,>=3.19.5, but you have protobuf 5.27.2 which is incompatible.\n",
            "grpc-google-iam-v1 0.13.0 requires protobuf!=3.20.0,!=3.20.1,!=4.21.1,!=4.21.2,!=4.21.3,!=4.21.4,!=4.21.5,<5.0.0dev,>=3.19.5, but you have protobuf 5.27.2 which is incompatible.\n",
            "tensorflow 2.15.0 requires protobuf!=4.21.0,!=4.21.1,!=4.21.2,!=4.21.3,!=4.21.4,!=4.21.5,<5.0.0dev,>=3.20.3, but you have protobuf 5.27.2 which is incompatible.\n",
            "tensorflow-metadata 1.15.0 requires protobuf<4.21,>=3.20.3; python_version < \"3.11\", but you have protobuf 5.27.2 which is incompatible.\u001b[0m\u001b[31m\n",
            "\u001b[0mSuccessfully installed bitarray-2.9.2 ckzg-1.0.2 cytoolz-0.12.3 eth-abi-5.1.0 eth-account-0.11.2 eth-hash-0.7.0 eth-keyfile-0.8.1 eth-keys-0.5.1 eth-rlp-1.0.1 eth-typing-4.3.1 eth-utils-4.1.1 hexbytes-0.3.1 lru-dict-1.2.0 parsimonious-0.10.0 protobuf-5.27.2 pycryptodome-3.20.0 pyunormalize-15.1.0 rlp-4.0.1 web3-6.20.0 websockets-12.0\n"
          ]
        }
      ]
    },
    {
      "cell_type": "code",
      "source": [
        "pip install py-solc-x"
      ],
      "metadata": {
        "id": "QuLrQULfsAsA",
        "colab": {
          "base_uri": "https://localhost:8080/"
        },
        "outputId": "eeea8c21-eda2-4f38-80e7-be56ce5a14c4"
      },
      "execution_count": null,
      "outputs": [
        {
          "output_type": "stream",
          "name": "stdout",
          "text": [
            "Collecting py-solc-x\n",
            "  Using cached py_solc_x-2.0.3-py3-none-any.whl (18 kB)\n",
            "Requirement already satisfied: requests<3,>=2.19.0 in /usr/local/lib/python3.10/dist-packages (from py-solc-x) (2.31.0)\n",
            "Collecting packaging<24,>=23.1 (from py-solc-x)\n",
            "  Using cached packaging-23.2-py3-none-any.whl (53 kB)\n",
            "Requirement already satisfied: charset-normalizer<4,>=2 in /usr/local/lib/python3.10/dist-packages (from requests<3,>=2.19.0->py-solc-x) (3.3.2)\n",
            "Requirement already satisfied: idna<4,>=2.5 in /usr/local/lib/python3.10/dist-packages (from requests<3,>=2.19.0->py-solc-x) (3.7)\n",
            "Requirement already satisfied: urllib3<3,>=1.21.1 in /usr/local/lib/python3.10/dist-packages (from requests<3,>=2.19.0->py-solc-x) (2.0.7)\n",
            "Requirement already satisfied: certifi>=2017.4.17 in /usr/local/lib/python3.10/dist-packages (from requests<3,>=2.19.0->py-solc-x) (2024.6.2)\n",
            "Installing collected packages: packaging, py-solc-x\n",
            "  Attempting uninstall: packaging\n",
            "    Found existing installation: packaging 24.1\n",
            "    Uninstalling packaging-24.1:\n",
            "      Successfully uninstalled packaging-24.1\n",
            "\u001b[31mERROR: pip's dependency resolver does not currently take into account all the packages that are installed. This behaviour is the source of the following dependency conflicts.\n",
            "cudf-cu12 24.4.1 requires protobuf<5,>=3.20, but you have protobuf 5.27.2 which is incompatible.\n",
            "google-cloud-aiplatform 1.56.0 requires protobuf!=3.20.0,!=3.20.1,!=4.21.0,!=4.21.1,!=4.21.2,!=4.21.3,!=4.21.4,!=4.21.5,<5.0.0dev,>=3.19.5, but you have protobuf 5.27.2 which is incompatible.\n",
            "tensorflow 2.15.0 requires protobuf!=4.21.0,!=4.21.1,!=4.21.2,!=4.21.3,!=4.21.4,!=4.21.5,<5.0.0dev,>=3.20.3, but you have protobuf 5.27.2 which is incompatible.\u001b[0m\u001b[31m\n",
            "\u001b[0mSuccessfully installed packaging-23.2 py-solc-x-2.0.3\n"
          ]
        }
      ]
    },
    {
      "cell_type": "code",
      "source": [
        "pip install google-cloud-secret-manager"
      ],
      "metadata": {
        "id": "qauGeuIzrM55",
        "colab": {
          "base_uri": "https://localhost:8080/",
          "height": 654
        },
        "outputId": "0cedfb68-3d4e-42b9-ddf7-9868f8d5b9ce"
      },
      "execution_count": null,
      "outputs": [
        {
          "output_type": "stream",
          "name": "stdout",
          "text": [
            "Collecting google-cloud-secret-manager\n",
            "  Downloading google_cloud_secret_manager-2.20.0-py2.py3-none-any.whl (180 kB)\n",
            "\u001b[?25l     \u001b[90m━━━━━━━━━━━━━━━━━━━━━━━━━━━━━━━━━━━━━━━━\u001b[0m \u001b[32m0.0/180.7 kB\u001b[0m \u001b[31m?\u001b[0m eta \u001b[36m-:--:--\u001b[0m\r\u001b[2K     \u001b[91m━━━━━━━━━━━━━━━━━━━━━━━━━━━\u001b[0m\u001b[90m╺\u001b[0m\u001b[90m━━━━━━━━━━━━\u001b[0m \u001b[32m122.9/180.7 kB\u001b[0m \u001b[31m3.4 MB/s\u001b[0m eta \u001b[36m0:00:01\u001b[0m\r\u001b[2K     \u001b[90m━━━━━━━━━━━━━━━━━━━━━━━━━━━━━━━━━━━━━━━━\u001b[0m \u001b[32m180.7/180.7 kB\u001b[0m \u001b[31m3.4 MB/s\u001b[0m eta \u001b[36m0:00:00\u001b[0m\n",
            "\u001b[?25hRequirement already satisfied: google-api-core[grpc]!=2.0.*,!=2.1.*,!=2.10.*,!=2.2.*,!=2.3.*,!=2.4.*,!=2.5.*,!=2.6.*,!=2.7.*,!=2.8.*,!=2.9.*,<3.0.0dev,>=1.34.1 in /usr/local/lib/python3.10/dist-packages (from google-cloud-secret-manager) (2.11.1)\n",
            "Requirement already satisfied: google-auth!=2.24.0,!=2.25.0,<3.0.0dev,>=2.14.1 in /usr/local/lib/python3.10/dist-packages (from google-cloud-secret-manager) (2.27.0)\n",
            "Requirement already satisfied: proto-plus<2.0.0dev,>=1.22.3 in /usr/local/lib/python3.10/dist-packages (from google-cloud-secret-manager) (1.24.0)\n",
            "Collecting protobuf!=3.20.0,!=3.20.1,!=4.21.0,!=4.21.1,!=4.21.2,!=4.21.3,!=4.21.4,!=4.21.5,<5.0.0dev,>=3.19.5 (from google-cloud-secret-manager)\n",
            "  Downloading protobuf-4.25.3-cp37-abi3-manylinux2014_x86_64.whl (294 kB)\n",
            "\u001b[2K     \u001b[90m━━━━━━━━━━━━━━━━━━━━━━━━━━━━━━━━━━━━━━━━\u001b[0m \u001b[32m294.6/294.6 kB\u001b[0m \u001b[31m7.0 MB/s\u001b[0m eta \u001b[36m0:00:00\u001b[0m\n",
            "\u001b[?25hRequirement already satisfied: grpc-google-iam-v1<1.0.0dev,>=0.12.4 in /usr/local/lib/python3.10/dist-packages (from google-cloud-secret-manager) (0.13.0)\n",
            "Requirement already satisfied: googleapis-common-protos<2.0.dev0,>=1.56.2 in /usr/local/lib/python3.10/dist-packages (from google-api-core[grpc]!=2.0.*,!=2.1.*,!=2.10.*,!=2.2.*,!=2.3.*,!=2.4.*,!=2.5.*,!=2.6.*,!=2.7.*,!=2.8.*,!=2.9.*,<3.0.0dev,>=1.34.1->google-cloud-secret-manager) (1.63.1)\n",
            "Requirement already satisfied: requests<3.0.0.dev0,>=2.18.0 in /usr/local/lib/python3.10/dist-packages (from google-api-core[grpc]!=2.0.*,!=2.1.*,!=2.10.*,!=2.2.*,!=2.3.*,!=2.4.*,!=2.5.*,!=2.6.*,!=2.7.*,!=2.8.*,!=2.9.*,<3.0.0dev,>=1.34.1->google-cloud-secret-manager) (2.31.0)\n",
            "Requirement already satisfied: grpcio<2.0dev,>=1.33.2 in /usr/local/lib/python3.10/dist-packages (from google-api-core[grpc]!=2.0.*,!=2.1.*,!=2.10.*,!=2.2.*,!=2.3.*,!=2.4.*,!=2.5.*,!=2.6.*,!=2.7.*,!=2.8.*,!=2.9.*,<3.0.0dev,>=1.34.1->google-cloud-secret-manager) (1.64.1)\n",
            "Requirement already satisfied: grpcio-status<2.0.dev0,>=1.33.2 in /usr/local/lib/python3.10/dist-packages (from google-api-core[grpc]!=2.0.*,!=2.1.*,!=2.10.*,!=2.2.*,!=2.3.*,!=2.4.*,!=2.5.*,!=2.6.*,!=2.7.*,!=2.8.*,!=2.9.*,<3.0.0dev,>=1.34.1->google-cloud-secret-manager) (1.48.2)\n",
            "Requirement already satisfied: cachetools<6.0,>=2.0.0 in /usr/local/lib/python3.10/dist-packages (from google-auth!=2.24.0,!=2.25.0,<3.0.0dev,>=2.14.1->google-cloud-secret-manager) (5.3.3)\n",
            "Requirement already satisfied: pyasn1-modules>=0.2.1 in /usr/local/lib/python3.10/dist-packages (from google-auth!=2.24.0,!=2.25.0,<3.0.0dev,>=2.14.1->google-cloud-secret-manager) (0.4.0)\n",
            "Requirement already satisfied: rsa<5,>=3.1.4 in /usr/local/lib/python3.10/dist-packages (from google-auth!=2.24.0,!=2.25.0,<3.0.0dev,>=2.14.1->google-cloud-secret-manager) (4.9)\n",
            "Requirement already satisfied: pyasn1<0.7.0,>=0.4.6 in /usr/local/lib/python3.10/dist-packages (from pyasn1-modules>=0.2.1->google-auth!=2.24.0,!=2.25.0,<3.0.0dev,>=2.14.1->google-cloud-secret-manager) (0.6.0)\n",
            "Requirement already satisfied: charset-normalizer<4,>=2 in /usr/local/lib/python3.10/dist-packages (from requests<3.0.0.dev0,>=2.18.0->google-api-core[grpc]!=2.0.*,!=2.1.*,!=2.10.*,!=2.2.*,!=2.3.*,!=2.4.*,!=2.5.*,!=2.6.*,!=2.7.*,!=2.8.*,!=2.9.*,<3.0.0dev,>=1.34.1->google-cloud-secret-manager) (3.3.2)\n",
            "Requirement already satisfied: idna<4,>=2.5 in /usr/local/lib/python3.10/dist-packages (from requests<3.0.0.dev0,>=2.18.0->google-api-core[grpc]!=2.0.*,!=2.1.*,!=2.10.*,!=2.2.*,!=2.3.*,!=2.4.*,!=2.5.*,!=2.6.*,!=2.7.*,!=2.8.*,!=2.9.*,<3.0.0dev,>=1.34.1->google-cloud-secret-manager) (3.7)\n",
            "Requirement already satisfied: urllib3<3,>=1.21.1 in /usr/local/lib/python3.10/dist-packages (from requests<3.0.0.dev0,>=2.18.0->google-api-core[grpc]!=2.0.*,!=2.1.*,!=2.10.*,!=2.2.*,!=2.3.*,!=2.4.*,!=2.5.*,!=2.6.*,!=2.7.*,!=2.8.*,!=2.9.*,<3.0.0dev,>=1.34.1->google-cloud-secret-manager) (2.0.7)\n",
            "Requirement already satisfied: certifi>=2017.4.17 in /usr/local/lib/python3.10/dist-packages (from requests<3.0.0.dev0,>=2.18.0->google-api-core[grpc]!=2.0.*,!=2.1.*,!=2.10.*,!=2.2.*,!=2.3.*,!=2.4.*,!=2.5.*,!=2.6.*,!=2.7.*,!=2.8.*,!=2.9.*,<3.0.0dev,>=1.34.1->google-cloud-secret-manager) (2024.6.2)\n",
            "Installing collected packages: protobuf, google-cloud-secret-manager\n",
            "  Attempting uninstall: protobuf\n",
            "    Found existing installation: protobuf 5.27.2\n",
            "    Uninstalling protobuf-5.27.2:\n",
            "      Successfully uninstalled protobuf-5.27.2\n",
            "\u001b[31mERROR: pip's dependency resolver does not currently take into account all the packages that are installed. This behaviour is the source of the following dependency conflicts.\n",
            "tensorflow-metadata 1.15.0 requires protobuf<4.21,>=3.20.3; python_version < \"3.11\", but you have protobuf 4.25.3 which is incompatible.\u001b[0m\u001b[31m\n",
            "\u001b[0mSuccessfully installed google-cloud-secret-manager-2.20.0 protobuf-4.25.3\n"
          ]
        },
        {
          "output_type": "display_data",
          "data": {
            "application/vnd.colab-display-data+json": {
              "pip_warning": {
                "packages": [
                  "google"
                ]
              },
              "id": "f670ef03027a4ae6b93993d5664ab339"
            }
          },
          "metadata": {}
        }
      ]
    },
    {
      "cell_type": "code",
      "source": [
        "pip install firebase-admin==5.2.0 google-cloud-firestore==2.9.0"
      ],
      "metadata": {
        "id": "7DImHqR9d8nD",
        "colab": {
          "base_uri": "https://localhost:8080/",
          "height": 825
        },
        "outputId": "106bbd46-4cd3-4e2e-b2a9-681f3222e3c8"
      },
      "execution_count": null,
      "outputs": [
        {
          "output_type": "stream",
          "name": "stdout",
          "text": [
            "Collecting firebase-admin==5.2.0\n",
            "  Using cached firebase_admin-5.2.0-py3-none-any.whl (115 kB)\n",
            "Collecting google-cloud-firestore==2.9.0\n",
            "  Using cached google_cloud_firestore-2.9.0-py2.py3-none-any.whl (263 kB)\n",
            "Requirement already satisfied: cachecontrol>=0.12.6 in /usr/local/lib/python3.10/dist-packages (from firebase-admin==5.2.0) (0.14.0)\n",
            "Requirement already satisfied: google-api-python-client>=1.7.8 in /usr/local/lib/python3.10/dist-packages (from firebase-admin==5.2.0) (2.84.0)\n",
            "Requirement already satisfied: google-cloud-storage>=1.37.1 in /usr/local/lib/python3.10/dist-packages (from firebase-admin==5.2.0) (2.8.0)\n",
            "Requirement already satisfied: google-api-core[grpc]<3.0.0dev,>=1.22.1 in /usr/local/lib/python3.10/dist-packages (from firebase-admin==5.2.0) (2.11.1)\n",
            "Requirement already satisfied: google-cloud-core<3.0.0dev,>=1.4.1 in /usr/local/lib/python3.10/dist-packages (from google-cloud-firestore==2.9.0) (2.3.3)\n",
            "Requirement already satisfied: proto-plus<2.0.0dev,>=1.22.0 in /usr/local/lib/python3.10/dist-packages (from google-cloud-firestore==2.9.0) (1.24.0)\n",
            "Requirement already satisfied: protobuf!=3.20.0,!=3.20.1,!=4.21.0,!=4.21.1,!=4.21.2,!=4.21.3,!=4.21.4,!=4.21.5,<5.0.0dev,>=3.19.5 in /usr/local/lib/python3.10/dist-packages (from google-cloud-firestore==2.9.0) (4.25.3)\n",
            "Requirement already satisfied: requests>=2.16.0 in /usr/local/lib/python3.10/dist-packages (from cachecontrol>=0.12.6->firebase-admin==5.2.0) (2.31.0)\n",
            "Requirement already satisfied: msgpack<2.0.0,>=0.5.2 in /usr/local/lib/python3.10/dist-packages (from cachecontrol>=0.12.6->firebase-admin==5.2.0) (1.0.8)\n",
            "Requirement already satisfied: googleapis-common-protos<2.0.dev0,>=1.56.2 in /usr/local/lib/python3.10/dist-packages (from google-api-core[grpc]<3.0.0dev,>=1.22.1->firebase-admin==5.2.0) (1.63.1)\n",
            "Requirement already satisfied: google-auth<3.0.dev0,>=2.14.1 in /usr/local/lib/python3.10/dist-packages (from google-api-core[grpc]<3.0.0dev,>=1.22.1->firebase-admin==5.2.0) (2.27.0)\n",
            "Requirement already satisfied: grpcio<2.0dev,>=1.33.2 in /usr/local/lib/python3.10/dist-packages (from google-api-core[grpc]<3.0.0dev,>=1.22.1->firebase-admin==5.2.0) (1.64.1)\n",
            "Requirement already satisfied: grpcio-status<2.0.dev0,>=1.33.2 in /usr/local/lib/python3.10/dist-packages (from google-api-core[grpc]<3.0.0dev,>=1.22.1->firebase-admin==5.2.0) (1.48.2)\n",
            "Requirement already satisfied: httplib2<1dev,>=0.15.0 in /usr/local/lib/python3.10/dist-packages (from google-api-python-client>=1.7.8->firebase-admin==5.2.0) (0.22.0)\n",
            "Requirement already satisfied: google-auth-httplib2>=0.1.0 in /usr/local/lib/python3.10/dist-packages (from google-api-python-client>=1.7.8->firebase-admin==5.2.0) (0.1.1)\n",
            "Requirement already satisfied: uritemplate<5,>=3.0.1 in /usr/local/lib/python3.10/dist-packages (from google-api-python-client>=1.7.8->firebase-admin==5.2.0) (4.1.1)\n",
            "Requirement already satisfied: google-resumable-media>=2.3.2 in /usr/local/lib/python3.10/dist-packages (from google-cloud-storage>=1.37.1->firebase-admin==5.2.0) (2.7.1)\n",
            "Requirement already satisfied: cachetools<6.0,>=2.0.0 in /usr/local/lib/python3.10/dist-packages (from google-auth<3.0.dev0,>=2.14.1->google-api-core[grpc]<3.0.0dev,>=1.22.1->firebase-admin==5.2.0) (5.3.3)\n",
            "Requirement already satisfied: pyasn1-modules>=0.2.1 in /usr/local/lib/python3.10/dist-packages (from google-auth<3.0.dev0,>=2.14.1->google-api-core[grpc]<3.0.0dev,>=1.22.1->firebase-admin==5.2.0) (0.4.0)\n",
            "Requirement already satisfied: rsa<5,>=3.1.4 in /usr/local/lib/python3.10/dist-packages (from google-auth<3.0.dev0,>=2.14.1->google-api-core[grpc]<3.0.0dev,>=1.22.1->firebase-admin==5.2.0) (4.9)\n",
            "Requirement already satisfied: google-crc32c<2.0dev,>=1.0 in /usr/local/lib/python3.10/dist-packages (from google-resumable-media>=2.3.2->google-cloud-storage>=1.37.1->firebase-admin==5.2.0) (1.5.0)\n",
            "Requirement already satisfied: pyparsing!=3.0.0,!=3.0.1,!=3.0.2,!=3.0.3,<4,>=2.4.2 in /usr/local/lib/python3.10/dist-packages (from httplib2<1dev,>=0.15.0->google-api-python-client>=1.7.8->firebase-admin==5.2.0) (3.1.2)\n",
            "Requirement already satisfied: charset-normalizer<4,>=2 in /usr/local/lib/python3.10/dist-packages (from requests>=2.16.0->cachecontrol>=0.12.6->firebase-admin==5.2.0) (3.3.2)\n",
            "Requirement already satisfied: idna<4,>=2.5 in /usr/local/lib/python3.10/dist-packages (from requests>=2.16.0->cachecontrol>=0.12.6->firebase-admin==5.2.0) (3.7)\n",
            "Requirement already satisfied: urllib3<3,>=1.21.1 in /usr/local/lib/python3.10/dist-packages (from requests>=2.16.0->cachecontrol>=0.12.6->firebase-admin==5.2.0) (2.0.7)\n",
            "Requirement already satisfied: certifi>=2017.4.17 in /usr/local/lib/python3.10/dist-packages (from requests>=2.16.0->cachecontrol>=0.12.6->firebase-admin==5.2.0) (2024.6.2)\n",
            "Requirement already satisfied: pyasn1<0.7.0,>=0.4.6 in /usr/local/lib/python3.10/dist-packages (from pyasn1-modules>=0.2.1->google-auth<3.0.dev0,>=2.14.1->google-api-core[grpc]<3.0.0dev,>=1.22.1->firebase-admin==5.2.0) (0.6.0)\n",
            "Installing collected packages: google-cloud-firestore, firebase-admin\n",
            "  Attempting uninstall: google-cloud-firestore\n",
            "    Found existing installation: google-cloud-firestore 2.16.1\n",
            "    Uninstalling google-cloud-firestore-2.16.1:\n",
            "      Successfully uninstalled google-cloud-firestore-2.16.1\n",
            "  Attempting uninstall: firebase-admin\n",
            "    Found existing installation: firebase-admin 6.5.0\n",
            "    Uninstalling firebase-admin-6.5.0:\n",
            "      Successfully uninstalled firebase-admin-6.5.0\n",
            "Successfully installed firebase-admin-5.2.0 google-cloud-firestore-2.9.0\n"
          ]
        },
        {
          "output_type": "display_data",
          "data": {
            "application/vnd.colab-display-data+json": {
              "pip_warning": {
                "packages": [
                  "google"
                ]
              },
              "id": "a96486be3e43494a80dc9405369e8ce1"
            }
          },
          "metadata": {}
        }
      ]
    },
    {
      "cell_type": "code",
      "source": [
        "pip install cryptography"
      ],
      "metadata": {
        "id": "OyfOcJMJuMGk",
        "colab": {
          "base_uri": "https://localhost:8080/"
        },
        "outputId": "140f533c-60cc-43ee-e2a7-fd6af147f801"
      },
      "execution_count": null,
      "outputs": [
        {
          "output_type": "stream",
          "name": "stdout",
          "text": [
            "Requirement already satisfied: cryptography in /usr/local/lib/python3.10/dist-packages (42.0.8)\n",
            "Requirement already satisfied: cffi>=1.12 in /usr/local/lib/python3.10/dist-packages (from cryptography) (1.16.0)\n",
            "Requirement already satisfied: pycparser in /usr/local/lib/python3.10/dist-packages (from cffi>=1.12->cryptography) (2.22)\n",
            "\u001b[31mERROR: Operation cancelled by user\u001b[0m\u001b[31m\n",
            "\u001b[0m"
          ]
        }
      ]
    },
    {
      "cell_type": "markdown",
      "source": [
        "# Import"
      ],
      "metadata": {
        "id": "HV5A5BckIjtt"
      }
    },
    {
      "cell_type": "code",
      "source": [
        "import firebase_admin\n",
        "from firebase_admin import credentials\n",
        "from firebase_admin import firestore\n",
        "import time\n",
        "import datetime\n",
        "import json\n",
        "import solcx\n",
        "from solcx import compile_standard\n",
        "from solcx import compile_source\n",
        "from web3 import  Web3, exceptions\n",
        "from eth_account import Account\n",
        "\n",
        "from cryptography.fernet import Fernet\n",
        "from cryptography.hazmat.primitives.asymmetric import rsa\n",
        "from cryptography.hazmat.primitives import serialization\n",
        "from cryptography.hazmat.primitives import hashes\n",
        "from cryptography.hazmat.primitives.asymmetric import padding\n",
        "import base64\n"
      ],
      "metadata": {
        "id": "9j1C0nW1Edog"
      },
      "execution_count": null,
      "outputs": []
    },
    {
      "cell_type": "code",
      "source": [
        "from google.colab import drive\n",
        "drive.mount('/content/gdrive/')"
      ],
      "metadata": {
        "id": "FL2wxo_53v0l",
        "colab": {
          "base_uri": "https://localhost:8080/"
        },
        "outputId": "3e824e87-4537-46fd-8c8f-3ddc3fcf8d27"
      },
      "execution_count": null,
      "outputs": [
        {
          "output_type": "stream",
          "name": "stdout",
          "text": [
            "Mounted at /content/gdrive/\n"
          ]
        }
      ]
    },
    {
      "cell_type": "markdown",
      "source": [
        "# Consts"
      ],
      "metadata": {
        "id": "IeMO5T5g43Qj"
      }
    },
    {
      "cell_type": "code",
      "source": [
        "root_directory_path = \"/content/gdrive/MyDrive/vote/\""
      ],
      "metadata": {
        "id": "FLYUD9pC45vk"
      },
      "execution_count": null,
      "outputs": []
    },
    {
      "cell_type": "markdown",
      "source": [
        "# User Defined Functions"
      ],
      "metadata": {
        "id": "kRaWsoak4bEH"
      }
    },
    {
      "cell_type": "code",
      "source": [
        "def readJsonFile(path):\n",
        "  f = open(path,'r')\n",
        "\n",
        "  data = json.load(f)\n",
        "\n",
        "  f.close()\n",
        "\n",
        "  return data"
      ],
      "metadata": {
        "id": "OeR2zOYu4ef8"
      },
      "execution_count": null,
      "outputs": []
    },
    {
      "cell_type": "code",
      "source": [
        "def generate_wallets(number_of_wallets):\n",
        "    wallets = []\n",
        "    for _ in range(number_of_wallets):\n",
        "        account = Account.create()\n",
        "        wallet = {\n",
        "            'address': account.address,\n",
        "            'private_key': account.key.hex()\n",
        "        }\n",
        "        wallets.append(wallet)\n",
        "    return wallets"
      ],
      "metadata": {
        "id": "HrOVjKtz3llj"
      },
      "execution_count": null,
      "outputs": []
    },
    {
      "cell_type": "code",
      "source": [
        "def addElectionToDb(election):\n",
        "  doc_ref = db.collection('election').document()\n",
        "  doc_ref.set(election)"
      ],
      "metadata": {
        "id": "9baadNbtU0tz"
      },
      "execution_count": null,
      "outputs": []
    },
    {
      "cell_type": "code",
      "source": [
        "def deploy_election_contract(election, constructor_args):\n",
        "\n",
        "    nonce = web3.eth.get_transaction_count(address)\n",
        "\n",
        "    transaction = election.constructor(*constructor_args).build_transaction({\n",
        "        'from': address,\n",
        "        'nonce': nonce,\n",
        "        # 'gasPrice' : web3.to_wei('10', 'gwei'),\n",
        "        'chainId': 11155111\n",
        "    })\n",
        "\n",
        "    # Estimate the gas\n",
        "    gas_estimate = web3.eth.estimate_gas(transaction)\n",
        "    gas_price = web3.eth.gas_price\n",
        "    estimate_wei = gas_price *gas_estimate\n",
        "    estimate_eth = web3.from_wei(estimate_wei, 'ether')\n",
        "\n",
        "    gas_limit = gas_estimate + 100000\n",
        "\n",
        "    print(f'Estimated Gas: {gas_estimate}')\n",
        "    print(f'Estimated Price for transaction in eth: {estimate_eth}')\n",
        "\n",
        "\n",
        "    if(estimate_eth > 0.15 ):\n",
        "      print(f'TOO MUCH COSTS')\n",
        "      return \"\"\n",
        "    else:\n",
        "      transaction.update({'gas': gas_limit})\n",
        "\n",
        "      # Sign the transaction\n",
        "      signed_txn = web3.eth.account.sign_transaction(transaction, private_key=private_key)\n",
        "\n",
        "      # Send the signed transaction\n",
        "      tx_hash = web3.eth.send_raw_transaction(signed_txn.rawTransaction)\n",
        "\n",
        "      # Wait for the transaction to be mined\n",
        "      tx_receipt = web3.eth.wait_for_transaction_receipt(tx_hash)\n",
        "\n",
        "      contract_address = tx_receipt.contractAddress\n",
        "      print(f'Contract for \"{constructor_args[0]}\" deployed at address: {contract_address}')\n",
        "      return contract_address"
      ],
      "metadata": {
        "id": "imxuyZR_HHtT"
      },
      "execution_count": null,
      "outputs": []
    },
    {
      "cell_type": "code",
      "source": [
        "def send_eth(recipient_address, amount):\n",
        "\n",
        "  nonce = web3.eth.get_transaction_count(address)\n",
        "\n",
        "  # Build the transaction\n",
        "  transaction = {\n",
        "    'to': recipient_address,\n",
        "    'value': amount,\n",
        "    'gas': 21000,\n",
        "    'nonce': nonce,\n",
        "    'gasPrice': web3.to_wei('10', 'gwei'),\n",
        "    'nonce': web3.eth.get_transaction_count(address),\n",
        "    'chainId': 11155111  # Sepolia chain ID\n",
        "  }\n",
        "\n",
        "  # Sign the transaction\n",
        "  signed_txn = web3.eth.account.sign_transaction(transaction, private_key)\n",
        "\n",
        "  # Send the transaction\n",
        "  txn_hash = web3.eth.send_raw_transaction(signed_txn.rawTransaction)\n",
        "\n",
        "  # Get the transaction hash\n",
        "  print(f'Transaction hash: {txn_hash.hex()}')\n",
        "\n",
        "  # Wait for the transaction to be mined\n",
        "  txn_receipt = web3.eth.wait_for_transaction_receipt(txn_hash)\n",
        "  print(f'Transaction receipt: {txn_receipt}')"
      ],
      "metadata": {
        "id": "n1KBaJWmfM_9"
      },
      "execution_count": null,
      "outputs": []
    },
    {
      "cell_type": "markdown",
      "source": [
        "# Initializing Firebase"
      ],
      "metadata": {
        "id": "twusMwpiJITy"
      }
    },
    {
      "cell_type": "code",
      "source": [
        "cred = credentials.Certificate(root_directory_path + \"vote-db-cbc06-firebase-adminsdk-8nw48-d625e9b60d.json\")\n",
        "firebase_admin.initialize_app(cred)"
      ],
      "metadata": {
        "id": "pLUT45h5JMHg",
        "colab": {
          "base_uri": "https://localhost:8080/"
        },
        "outputId": "b28b330b-a26d-433a-82c3-2667ff9e92d9"
      },
      "execution_count": null,
      "outputs": [
        {
          "output_type": "execute_result",
          "data": {
            "text/plain": [
              "<firebase_admin.App at 0x7f9d16c19690>"
            ]
          },
          "metadata": {},
          "execution_count": 9
        }
      ]
    },
    {
      "cell_type": "code",
      "source": [
        "db = firebase_admin.firestore.client()"
      ],
      "metadata": {
        "id": "QE7o70U4bycJ"
      },
      "execution_count": null,
      "outputs": []
    },
    {
      "cell_type": "markdown",
      "source": [
        "#Getting arguments for contract constructor"
      ],
      "metadata": {
        "id": "gS0g-pf6gTr0"
      }
    },
    {
      "cell_type": "code",
      "source": [
        "election_path = root_directory_path +  'Elections.json'\n",
        "person_path = root_directory_path + 'Person-Wallet.json'"
      ],
      "metadata": {
        "id": "g5FWh_opgZIg"
      },
      "execution_count": null,
      "outputs": []
    },
    {
      "cell_type": "code",
      "source": [
        "person_json = readJsonFile(person_path)\n",
        "\n",
        "person_data = person_json['person_wallet']\n",
        "\n",
        "person_address_list = []\n",
        "\n",
        "for person in person_data:\n",
        "  person_address = []\n",
        "  person_address.append(person['cnp'][7:9])\n",
        "  person_address.append(person['address'])\n",
        "  person_address_list.append(person_address)\n",
        "\n",
        "\n",
        "print(person_address_list)"
      ],
      "metadata": {
        "colab": {
          "base_uri": "https://localhost:8080/"
        },
        "id": "LOLpCrkRihK6",
        "outputId": "81dc1a96-588e-4b98-f30d-c5c0aceb1fbf"
      },
      "execution_count": null,
      "outputs": [
        {
          "output_type": "stream",
          "name": "stdout",
          "text": [
            "[['22', '0x93d66196B40362B73Acc38d4fEa055Fafff5E2bD'], ['22', '0x6c861e635cD16c31624A7038308c97c78f97a28b'], ['41', '0xF64b9169D8c7F989514b058BB8D86F6f9c55F9B9'], ['41', '0x7050095C9168a6d9207c6fbf9c1BC5b51551B144'], ['42', '0x6B1A6664db7E20c23bA99afA9aeD15fE3e2922Fa'], ['42', '0xDd6E8a60A2d8F8AaC2aBfa9e1Bd6e7107bF94C09']]\n"
          ]
        }
      ]
    },
    {
      "cell_type": "code",
      "source": [
        "election_json = readJsonFile(election_path)\n",
        "election_data = election_json['elections']\n",
        "print(election_data)"
      ],
      "metadata": {
        "colab": {
          "base_uri": "https://localhost:8080/"
        },
        "id": "g8pA_vJpZf0d",
        "outputId": "f196e527-2503-491c-fda2-51e98d926643"
      },
      "execution_count": null,
      "outputs": [
        {
          "output_type": "stream",
          "name": "stdout",
          "text": [
            "[{'electionName': 'Local Mayor Iasi 2024', 'electionCountry': 'Romania', 'electionCounty': 'Iasi', 'electionCountyCode': '22', 'start_date': '06-09-2024', 'end_date': '06-09-2024', 'candidates': [{'name': 'Catalin Abalasei', 'about': 'CANDIDAT PRO ROMANIA'}, {'name': 'Cosette Chichirau', 'about': 'CANDIDAT PARTIDUL CURAJ PENTRU ROMANIA'}, {'name': 'Bogdan Balaniscu', 'about': 'CANDIDAT PARTIDUL PSD'}, {'name': 'Viorel Blajut', 'about': 'CANDIDAT PARTIDUL PSI'}, {'name': 'Mihai Chirica', 'about': 'CANDIDAT PARTIDUL PNL'}, {'name': 'Tudor Chiuhodaru', 'about': 'CANDIDAT PARTIDUL AUR'}, {'name': 'Marius Bodea', 'about': 'CANDIDAT PARTIDUL ADU'}, {'name': 'Ioan Sebastian Buduroi', 'about': 'CANDIDAT PARTIDUL LEU'}, {'name': 'Mihai Pintilie', 'about': 'CANDIDAT PARTIDUL PUSL'}]}, {'electionName': 'Local Council Iasi 2024', 'electionCountry': 'Romania', 'electionCounty': 'Iasi', 'electionCountyCode': '22', 'start_date': '06-09-2024', 'end_date': '06-09-2024', 'candidates': [{'name': 'ALIANTA ELECTORALA PSD PNL', 'about': 'CANDIDAT PARTID POLITIC'}, {'name': 'PARTIDUL S.O.S. ROMANIA', 'about': 'CANDIDAT PARTID POLITIC'}, {'name': 'ALIANTA DREAPTA UNITA USR-PMP-FORȚA DREPTEI', 'about': 'CANDIDAT PARTID POLITIC'}, {'name': 'ROMANIA SOCIALISTA', 'about': 'CANDIDAT PARTID POLITIC'}, {'name': 'PARTIDUL ALTERNATIVA DREAPTA', 'about': 'CANDIDAT PARTID POLITIC'}, {'name': 'PARTIDUL DIASPORA UNITA', 'about': 'CANDIDAT PARTID POLITIC'}, {'name': 'PARTIDUL UMANIST SOCIAL LIBERAL', 'about': 'CANDIDAT PARTID POLITIC'}, {'name': 'PARTIDUL REINNOIM PROIECTUL EUROPEAN AL ROMANIEI', 'about': 'CANDIDAT PARTID POLITIC'}, {'name': 'PARTIDUL OAMENILOR LIBERI', 'about': 'CANDIDAT PARTID POLITIC'}, {'name': 'UNIUNEA DEMOCRATA MAGHIARA DIN ROMÂNIA', 'about': 'CANDIDAT PARTID POLITIC'}, {'name': 'PARTIDUL ROMANIA MARE', 'about': 'CANDIDAT PARTID POLITIC'}, {'name': 'PARTIDUL NOUA ROMANIE', 'about': 'CANDIDAT PARTID POLITIC'}, {'name': 'PARTIDUL NAȚIONAL TARANESC MANIU-MIHALACHE', 'about': 'CANDIDAT PARTID POLITIC'}]}, {'electionName': 'Local President of County Council Iasi 2024', 'electionCountry': 'Romania', 'electionCounty': 'Iasi', 'electionCountyCode': '22', 'start_date': '06-09-2024', 'end_date': '06-09-2024', 'candidates': [{'name': 'Catalin Abalasei', 'about': 'CANDIDAT PRO ROMANIA'}, {'name': 'Cosette Chichirau', 'about': 'CANDIDAT PARTIDUL CURAJ PENTRU ROMANIA'}, {'name': 'Bogdan Balaniscu', 'about': 'CANDIDAT PARTIDUL PSD'}, {'name': 'Viorel Blajut', 'about': 'CANDIDAT PARTIDUL PSI'}, {'name': 'Mihai Chirica', 'about': 'CANDIDAT PARTIDUL PNL'}, {'name': 'Tudor Chiuhodaru', 'about': 'CANDIDAT PARTIDUL AUR'}, {'name': 'Marius Bodea', 'about': 'CANDIDAT PARTIDUL ADU'}, {'name': 'Ioan Sebastian Buduroi', 'about': 'CANDIDAT PARTIDUL LEU'}, {'name': 'Mihai Pintilie', 'about': 'CANDIDAT PARTIDUL PUSL'}]}, {'electionName': 'County Council List Iasi 2024', 'electionCountry': 'Romania', 'electionCounty': 'Iasi', 'electionCountyCode': '22', 'start_date': '06-09-2024', 'end_date': '06-09-2024', 'candidates': [{'name': 'ALIANTA ELECTORALA PSD PNL', 'about': 'CANDIDAT PARTID POLITIC'}, {'name': 'PARTIDUL S.O.S. ROMANIA', 'about': 'CANDIDAT PARTID POLITIC'}, {'name': 'ALIANTA DREAPTA UNITA USR-PMP-FORȚA DREPTEI', 'about': 'CANDIDAT PARTID POLITIC'}, {'name': 'ROMANIA SOCIALISTA', 'about': 'CANDIDAT PARTID POLITIC'}, {'name': 'PARTIDUL ALTERNATIVA DREAPTA', 'about': 'CANDIDAT PARTID POLITIC'}, {'name': 'PARTIDUL DIASPORA UNITA', 'about': 'CANDIDAT PARTID POLITIC'}, {'name': 'PARTIDUL UMANIST SOCIAL LIBERAL', 'about': 'CANDIDAT PARTID POLITIC'}, {'name': 'PARTIDUL REINNOIM PROIECTUL EUROPEAN AL ROMANIEI', 'about': 'CANDIDAT PARTID POLITIC'}, {'name': 'PARTIDUL OAMENILOR LIBERI', 'about': 'CANDIDAT PARTID POLITIC'}, {'name': 'UNIUNEA DEMOCRATA MAGHIARA DIN ROMÂNIA', 'about': 'CANDIDAT PARTID POLITIC'}, {'name': 'PARTIDUL ROMANIA MARE', 'about': 'CANDIDAT PARTID POLITIC'}, {'name': 'PARTIDUL NOUA ROMANIE', 'about': 'CANDIDAT PARTID POLITIC'}, {'name': 'PARTIDUL NAȚIONAL TARANESC MANIU-MIHALACHE', 'about': 'CANDIDAT PARTID POLITIC'}]}, {'electionName': 'Local Sector Mayor Bucharest Sector 1 2024', 'electionCountry': 'Romania', 'electionCounty': 'Bucharest Sector 1', 'electionCountyCode': '41', 'start_date': '06-09-2024', 'end_date': '06-09-2024', 'candidates': [{'name': 'Clotilde Armand', 'about': 'CANDIDAT ALIANTA DREAPTA UNITA'}, {'name': 'Daniel Tudorache', 'about': 'CANDIDAT INDEPENDENT'}, {'name': 'Iulian Hatmanu', 'about': 'CANDIDAT PARTIDUL REPER'}, {'name': 'Florin Ghidănac', 'about': 'CANDIDAT PARTIDUL BLOCUL SUVERANIST ROMAN'}, {'name': 'Ramona Ioana Bruynseels', 'about': 'CANDIDAT PARTIDUL AUR'}, {'name': ' Liviu Negoiţă', 'about': 'CANDIDAT PARTIDUL PUSL'}, {'name': 'George Cristian Tuţă', 'about': 'CANDIDAT PARTIDUL ALIANTA ELECTORALA PSD PNL'}, {'name': 'Dan Nicolae Podaru', 'about': 'CANDIDAT PARTIDUL ECOLOGIST ROMAN'}, {'name': 'Mircea Florin Andrei', 'about': 'CANDIDAT PARTIDUL ALTERNATIVA DREAPTA'}]}, {'electionName': 'Local Sector Council Bucharest Sector 1 2024', 'electionCountry': 'Romania', 'electionCounty': 'Bucharest Sector 1', 'electionCountyCode': '41', 'start_date': '06-09-2024', 'end_date': '06-09-2024', 'candidates': [{'name': 'ALIANTA ELECTORALA PSD PNL', 'about': 'CANDIDAT PARTID POLITIC'}, {'name': 'PARTIDUL S.O.S. ROMANIA', 'about': 'CANDIDAT PARTID POLITIC'}, {'name': 'ALIANTA DREAPTA UNITA USR-PMP-FORȚA DREPTEI', 'about': 'CANDIDAT PARTID POLITIC'}, {'name': 'ROMANIA SOCIALISTA', 'about': 'CANDIDAT PARTID POLITIC'}, {'name': 'PARTIDUL ALTERNATIVA DREAPTA', 'about': 'CANDIDAT PARTID POLITIC'}, {'name': 'PARTIDUL DIASPORA UNITA', 'about': 'CANDIDAT PARTID POLITIC'}, {'name': 'PARTIDUL UMANIST SOCIAL LIBERAL', 'about': 'CANDIDAT PARTID POLITIC'}, {'name': 'PARTIDUL REINNOIM PROIECTUL EUROPEAN AL ROMANIEI', 'about': 'CANDIDAT PARTID POLITIC'}, {'name': 'PARTIDUL OAMENILOR LIBERI', 'about': 'CANDIDAT PARTID POLITIC'}, {'name': 'UNIUNEA DEMOCRATA MAGHIARA DIN ROMÂNIA', 'about': 'CANDIDAT PARTID POLITIC'}, {'name': 'PARTIDUL ROMANIA MARE', 'about': 'CANDIDAT PARTID POLITIC'}, {'name': 'PARTIDUL NOUA ROMANIE', 'about': 'CANDIDAT PARTID POLITIC'}, {'name': 'PARTIDUL NAȚIONAL TARANESC MANIU-MIHALACHE', 'about': 'CANDIDAT PARTID POLITIC'}]}, {'electionName': 'Local Sector Mayor Bucharest Sector 2 2024', 'electionCountry': 'Romania', 'electionCounty': 'Bucharest Sector 2', 'electionCountyCode': '42', 'start_date': '06-09-2024', 'end_date': '06-09-2024', 'candidates': [{'name': 'Rareş Hopincă', 'about': 'CANDIDAT PARTIDUL ALIANTA ELECTORALA PSD PNL'}, {'name': 'Radu Nicolae-Mihaiu', 'about': 'CANDIDAT PARTIDUL ALTERNATIVA DREAPTA UNITA USR PMP'}, {'name': 'Iolanda Luminiţa Bughiu', 'about': 'CANDIDAT PARTIDUL S.O.S ROMANIA'}, {'name': 'Andrei Gabriel Golgoţiu', 'about': 'CANDIDAT PARTIDUL REPER'}, {'name': 'Andrei Tinu', 'about': 'CANDIDAT PARTIDUL AUR'}, {'name': ' Liviu Negoiţă', 'about': 'CANDIDAT PARTIDUL PUSL'}, {'name': 'Dan Nicolae Podaru', 'about': 'CANDIDAT PARTIDUL ECOLOGIST ROMAN'}, {'name': 'Mircea Florin Andrei', 'about': 'CANDIDAT PARTIDUL ALTERNATIVA DREAPTA'}]}, {'electionName': 'Local Sector Council Bucharest Sector 2 2024', 'electionCountry': 'Romania', 'electionCounty': 'Bucharest Sector 1', 'electionCountyCode': '41', 'start_date': '06-09-2024', 'end_date': '06-09-2024', 'candidates': [{'name': 'ALIANTA ELECTORALA PSD PNL', 'about': 'CANDIDAT PARTID POLITIC'}, {'name': 'PARTIDUL S.O.S. ROMANIA', 'about': 'CANDIDAT PARTID POLITIC'}, {'name': 'ALIANTA DREAPTA UNITA USR-PMP-FORȚA DREPTEI', 'about': 'CANDIDAT PARTID POLITIC'}, {'name': 'ROMANIA SOCIALISTA', 'about': 'CANDIDAT PARTID POLITIC'}, {'name': 'PARTIDUL ALTERNATIVA DREAPTA', 'about': 'CANDIDAT PARTID POLITIC'}, {'name': 'PARTIDUL DIASPORA UNITA', 'about': 'CANDIDAT PARTID POLITIC'}, {'name': 'PARTIDUL UMANIST SOCIAL LIBERAL', 'about': 'CANDIDAT PARTID POLITIC'}, {'name': 'PARTIDUL REINNOIM PROIECTUL EUROPEAN AL ROMANIEI', 'about': 'CANDIDAT PARTID POLITIC'}, {'name': 'PARTIDUL OAMENILOR LIBERI', 'about': 'CANDIDAT PARTID POLITIC'}, {'name': 'UNIUNEA DEMOCRATA MAGHIARA DIN ROMÂNIA', 'about': 'CANDIDAT PARTID POLITIC'}, {'name': 'PARTIDUL ROMANIA MARE', 'about': 'CANDIDAT PARTID POLITIC'}, {'name': 'PARTIDUL NOUA ROMANIE', 'about': 'CANDIDAT PARTID POLITIC'}, {'name': 'PARTIDUL NAȚIONAL TARANESC MANIU-MIHALACHE', 'about': 'CANDIDAT PARTID POLITIC'}]}, {'electionName': 'General Mayor of Bucharest Municipality 2024', 'electionCountry': 'Romania', 'electionCounty': 'Bucharest', 'electionCountyCode': '4X', 'start_date': '06-09-2024', 'end_date': '06-09-2024', 'candidates': [{'name': 'Gabriela Firea', 'about': 'CANDIDAT PSD'}, {'name': 'Sebastian Burduja', 'about': 'CANDIDAT PNL'}, {'name': 'Nicuşor Dan', 'about': 'CANDIDAT ALIANTA DREAPTA UNITA'}, {'name': 'Mihai Adrian Enache', 'about': 'CANDIDAT AUR'}, {'name': 'Cristian Popescu Piedone', 'about': 'CANDIDAT PUSL'}, {'name': 'Diana Şoşoacă Iovanovici', 'about': 'CANDIDAT S.O.S ROMANIA'}, {'name': 'Dorin Iacob', 'about': 'CANDIDAT PARTIDUL ALTERNATIVA DREAPTA'}, {'name': 'Alexandru Pânişoară', 'about': 'CANDIDAT PARTIDUL ECOLOGIST ROMAN'}, {'name': 'Filip Constantin Titian', 'about': 'CANDIDAT INDEPENDENT'}]}, {'electionName': 'General Council of Bucharest Municipality 2024', 'electionCountry': 'Romania', 'electionCounty': 'Bucharest', 'electionCountyCode': '4X', 'start_date': '06-09-2024', 'end_date': '06-09-2024', 'candidates': [{'name': 'ALIANTA ELECTORALA PSD PNL', 'about': 'CANDIDAT PARTID POLITIC'}, {'name': 'PARTIDUL S.O.S. ROMANIA', 'about': 'CANDIDAT PARTID POLITIC'}, {'name': 'ALIANTA DREAPTA UNITA USR-PMP-FORȚA DREPTEI', 'about': 'CANDIDAT PARTID POLITIC'}, {'name': 'ROMANIA SOCIALISTA', 'about': 'CANDIDAT PARTID POLITIC'}, {'name': 'PARTIDUL ALTERNATIVA DREAPTA', 'about': 'CANDIDAT PARTID POLITIC'}, {'name': 'PARTIDUL DIASPORA UNITA', 'about': 'CANDIDAT PARTID POLITIC'}, {'name': 'PARTIDUL UMANIST SOCIAL LIBERAL', 'about': 'CANDIDAT PARTID POLITIC'}, {'name': 'PARTIDUL REINNOIM PROIECTUL EUROPEAN AL ROMANIEI', 'about': 'CANDIDAT PARTID POLITIC'}, {'name': 'PARTIDUL OAMENILOR LIBERI', 'about': 'CANDIDAT PARTID POLITIC'}, {'name': 'UNIUNEA DEMOCRATA MAGHIARA DIN ROMÂNIA', 'about': 'CANDIDAT PARTID POLITIC'}, {'name': 'PARTIDUL ROMANIA MARE', 'about': 'CANDIDAT PARTID POLITIC'}, {'name': 'PARTIDUL NOUA ROMANIE', 'about': 'CANDIDAT PARTID POLITIC'}, {'name': 'PARTIDUL NAȚIONAL TARANESC MANIU-MIHALACHE', 'about': 'CANDIDAT PARTID POLITIC'}]}, {'electionName': 'European Parliamentary Elections 2024', 'electionCountry': 'Romania', 'start_date': '06-09-2024', 'end_date': '06-09-2024', 'candidates': [{'name': 'ALIANTA ELECTORALA PSD PNL', 'about': 'CANDIDAT PARTID POLITIC'}, {'name': 'PARTIDUL S.O.S. ROMANIA', 'about': 'CANDIDAT PARTID POLITIC'}, {'name': 'ALIANTA DREAPTA UNITA USR-PMP-FORȚA DREPTEI', 'about': 'CANDIDAT PARTID POLITIC'}, {'name': 'ROMANIA SOCIALISTA', 'about': 'CANDIDAT PARTID POLITIC'}, {'name': 'PARTIDUL ALTERNATIVA DREAPTA', 'about': 'CANDIDAT PARTID POLITIC'}, {'name': 'PARTIDUL DIASPORA UNITA', 'about': 'CANDIDAT PARTID POLITIC'}, {'name': 'PARTIDUL UMANIST SOCIAL LIBERAL', 'about': 'CANDIDAT PARTID POLITIC'}, {'name': 'PARTIDUL REINNOIM PROIECTUL EUROPEAN AL ROMANIEI', 'about': 'CANDIDAT PARTID POLITIC'}, {'name': 'PARTIDUL OAMENILOR LIBERI', 'about': 'CANDIDAT PARTID POLITIC'}, {'name': 'UNIUNEA DEMOCRATA MAGHIARA DIN ROMÂNIA', 'about': 'CANDIDAT PARTID POLITIC'}, {'name': 'PARTIDUL ROMANIA MARE', 'about': 'CANDIDAT PARTID POLITIC'}, {'name': 'PARTIDUL NOUA ROMANIE', 'about': 'CANDIDAT PARTID POLITIC'}, {'name': 'PARTIDUL NAȚIONAL TARANESC MANIU-MIHALACHE', 'about': 'CANDIDAT PARTID POLITIC'}, {'name': 'JURMA PAUL-OCTAVIAN', 'about': 'CANDIDAT INDEPENDENT'}, {'name': 'PIRVANESCU PAULA-MARINELA', 'about': 'CANDIDAT INDEPENDENT'}, {'name': 'GHEORGHE VLAD-DAN', 'about': 'CANDIDAT INDEPENDENT'}, {'name': 'MUSTATEA ILIE-CATALIN', 'about': 'CANDIDAT INDEPENDENT'}, {'name': 'STEFANUTA NICOLAE-BOGDANEL', 'about': 'CANDIDAT INDEPENDENT'}, {'name': 'MINDRU PETRU', 'about': 'CANDIDAT INDEPENDENT'}, {'name': 'SOSOACA DUMITRU-SILVESTRU', 'about': 'CANDIDAT INDEPENDENT'}]}, {'electionName': 'Presidential Elections 2024', 'electionCountry': 'Romania', 'start_date': '09-15-2024', 'end_date': '09-15-2024', 'candidates': [{'name': 'Mircea Geoană', 'about': 'CANDIDAT INDEPENDENT'}, {'name': 'Dan Barna', 'about': 'CANDIDAT PARTID USR'}, {'name': 'Marcel Ciolacu', 'about': 'CANDIDAT PARTIDUL PSD'}, {'name': 'Diana Iovanovici-Șoșoacă', 'about': 'CANDIDAT PARTID SOS'}, {'name': 'Remus Cernea', 'about': 'CANDIDAT INDEPENDENT'}, {'name': 'Andrei Marga', 'about': 'CANDIDAT INDEPENDENT'}, {'name': 'Florin Călinescu', 'about': 'CANDIDAT PARTIDUL DIASPORA UNITA'}]}, {'electionName': 'Parliamentary Elections 2024', 'electionCountry': 'Romania', 'start_date': '12-08-2024', 'end_date': '12-08-2024', 'candidates': [{'name': 'ALIANTA ELECTORALA PSD PNL', 'about': 'CANDIDAT PARTID POLITIC'}, {'name': 'PARTIDUL S.O.S. ROMANIA', 'about': 'CANDIDAT PARTID POLITIC'}, {'name': 'ALIANTA DREAPTA UNITA USR-PMP-FORȚA DREPTEI', 'about': 'CANDIDAT PARTID POLITIC'}, {'name': 'ROMANIA SOCIALISTA', 'about': 'CANDIDAT PARTID POLITIC'}, {'name': 'PARTIDUL ALTERNATIVA DREAPTA', 'about': 'CANDIDAT PARTID POLITIC'}, {'name': 'PARTIDUL DIASPORA UNITA', 'about': 'CANDIDAT PARTID POLITIC'}, {'name': 'PARTIDUL UMANIST SOCIAL LIBERAL', 'about': 'CANDIDAT PARTID POLITIC'}, {'name': 'PARTIDUL REINNOIM PROIECTUL EUROPEAN AL ROMANIEI', 'about': 'CANDIDAT PARTID POLITIC'}, {'name': 'PARTIDUL OAMENILOR LIBERI', 'about': 'CANDIDAT PARTID POLITIC'}, {'name': 'UNIUNEA DEMOCRATA MAGHIARA DIN ROMÂNIA', 'about': 'CANDIDAT PARTID POLITIC'}, {'name': 'PARTIDUL ROMANIA MARE', 'about': 'CANDIDAT PARTID POLITIC'}, {'name': 'PARTIDUL NOUA ROMANIE', 'about': 'CANDIDAT PARTID POLITIC'}, {'name': 'PARTIDUL NAȚIONAL TARANESC MANIU-MIHALACHE', 'about': 'CANDIDAT PARTID POLITIC'}]}]\n"
          ]
        }
      ]
    },
    {
      "cell_type": "code",
      "source": [
        "election_contract_args_list = []\n",
        "for election in election_data:\n",
        "  eligible_address = []\n",
        "  county_code = 'none'\n",
        "  if('electionCountyCode' in election):\n",
        "    county_code = election['electionCountyCode']\n",
        "\n",
        "  for person_address in person_address_list:\n",
        "    if(county_code == 'none'):\n",
        "      eligible_address.append(person_address[1])\n",
        "    else:\n",
        "      if(county_code == '4X' and person_address[0][0] == '4'):\n",
        "        eligible_address.append(person_address[1])\n",
        "      else:\n",
        "        if(county_code == person_address[0]):\n",
        "          eligible_address.append(person_address[1])\n",
        "\n",
        "  candidates = []\n",
        "  about = []\n",
        "  for candidate in election['candidates']:\n",
        "    candidates.append(candidate['name'])\n",
        "    about.append(candidate['about'])\n",
        "\n",
        "\n",
        "  candidates.append('VOT ALB')\n",
        "  about.append('VOT NUL')\n",
        "\n",
        "  start_date = election['start_date']\n",
        "  end_date = election['end_date']\n",
        "\n",
        "  start_date = datetime.datetime.strptime(election['start_date'],\"%m-%d-%Y\")\n",
        "  end_date = datetime.datetime.strptime(election['end_date'],\"%m-%d-%Y\")\n",
        "\n",
        "  start_date_timestamp = datetime.datetime.timestamp(start_date)\n",
        "  end_date_timestamp = datetime.datetime.timestamp(start_date) + 86400\n",
        "\n",
        "  start_date_timestamp_GMT = int(start_date_timestamp - 10800)\n",
        "  end_date_timestamp_GMT = int(end_date_timestamp - 10800)\n",
        "\n",
        "  duration = end_date_timestamp_GMT - start_date_timestamp_GMT\n",
        "\n",
        "  election_contract_args = (election['electionName'],election['electionCountry'],candidates,about,eligible_address,start_date_timestamp_GMT,duration)\n",
        "  election_contract_args_list.append(election_contract_args)"
      ],
      "metadata": {
        "id": "ii2AY2xwZ55C"
      },
      "execution_count": null,
      "outputs": []
    },
    {
      "cell_type": "code",
      "source": [
        "print(election_contract_args_list[8])"
      ],
      "metadata": {
        "colab": {
          "base_uri": "https://localhost:8080/"
        },
        "id": "06JYiM99hnf_",
        "outputId": "b468076b-3f78-4849-c3d0-38c0de278bb6"
      },
      "execution_count": null,
      "outputs": [
        {
          "output_type": "stream",
          "name": "stdout",
          "text": [
            "('General Mayor of Bucharest Municipality 2024', 'Romania', ['Gabriela Firea', 'Sebastian Burduja', 'Nicuşor Dan', 'Mihai Adrian Enache', 'Cristian Popescu Piedone', 'Diana Şoşoacă Iovanovici', 'Dorin Iacob', 'Alexandru Pânişoară', 'Filip Constantin Titian', 'VOT ALB'], ['CANDIDAT PSD', 'CANDIDAT PNL', 'CANDIDAT ALIANTA DREAPTA UNITA', 'CANDIDAT AUR', 'CANDIDAT PUSL', 'CANDIDAT S.O.S ROMANIA', 'CANDIDAT PARTIDUL ALTERNATIVA DREAPTA', 'CANDIDAT PARTIDUL ECOLOGIST ROMAN', 'CANDIDAT INDEPENDENT', 'VOT NUL'], ['0xF64b9169D8c7F989514b058BB8D86F6f9c55F9B9', '0x7050095C9168a6d9207c6fbf9c1BC5b51551B144', '0x6B1A6664db7E20c23bA99afA9aeD15fE3e2922Fa', '0xDd6E8a60A2d8F8AaC2aBfa9e1Bd6e7107bF94C09'], 1722114000, 86400)\n"
          ]
        }
      ]
    },
    {
      "cell_type": "markdown",
      "source": [
        "#Web 3 initialization"
      ],
      "metadata": {
        "id": "1MztU8Rhp8we"
      }
    },
    {
      "cell_type": "code",
      "source": [
        "provider_url = 'https://sepolia.infura.io/v3/12b4a44ec28a41f892d243770ac30351';\n",
        "\n",
        "# Connect to a local Ethereum node\n",
        "web3 = Web3(Web3.HTTPProvider(provider_url))\n",
        "\n",
        "# Check if connected\n",
        "web3\n"
      ],
      "metadata": {
        "colab": {
          "base_uri": "https://localhost:8080/"
        },
        "id": "3Hyhg301qVdQ",
        "outputId": "fa00db59-453e-444a-aaa6-a10a0bda535a"
      },
      "execution_count": null,
      "outputs": [
        {
          "output_type": "execute_result",
          "data": {
            "text/plain": [
              "<web3.main.Web3 at 0x7f9cecd92ec0>"
            ]
          },
          "metadata": {},
          "execution_count": 42
        }
      ]
    },
    {
      "cell_type": "markdown",
      "source": [
        "#Build Smart contract"
      ],
      "metadata": {
        "id": "_i1Bcc7kvxiA"
      }
    },
    {
      "cell_type": "code",
      "source": [
        "solcx.install_solc(version='latest')"
      ],
      "metadata": {
        "id": "L56K1bGPxby0",
        "colab": {
          "base_uri": "https://localhost:8080/"
        },
        "outputId": "e252e1cf-794f-4490-f018-16567cc19a99"
      },
      "execution_count": null,
      "outputs": [
        {
          "output_type": "execute_result",
          "data": {
            "text/plain": [
              "<Version('0.8.26')>"
            ]
          },
          "metadata": {},
          "execution_count": 43
        }
      ]
    },
    {
      "cell_type": "code",
      "source": [
        "contract_path = root_directory_path + 'ElectionFinal.sol'"
      ],
      "metadata": {
        "id": "DX5xJbThUSGo"
      },
      "execution_count": null,
      "outputs": []
    },
    {
      "cell_type": "code",
      "source": [
        "with open(contract_path, 'r') as file:\n",
        "  contract_file = file.read()"
      ],
      "metadata": {
        "id": "3_amcL0H4mO_"
      },
      "execution_count": null,
      "outputs": []
    },
    {
      "cell_type": "code",
      "source": [
        "compiled_sol = compile_source(contract_file,output_values = ['abi','bin'])\n",
        "\n",
        "contract_id, contract_interface = compiled_sol.popitem()\n",
        "\n",
        "bytecode = contract_interface['bin']\n",
        "\n",
        "abi = contract_interface['abi']"
      ],
      "metadata": {
        "id": "lFoEOMW7Kn9s"
      },
      "execution_count": null,
      "outputs": []
    },
    {
      "cell_type": "markdown",
      "source": [
        "#Deploy Smart Contract"
      ],
      "metadata": {
        "id": "xRXsS4NEwmQ_"
      }
    },
    {
      "cell_type": "code",
      "source": [
        "address = \"0x750FEbc563E5441eD92B0bBd9F2702561Ea8c582\"\n",
        "private_key = \"780b8c55e79f14ccfe8c6db84ff192c94f0585e854abe196cceb096f63a29395\""
      ],
      "metadata": {
        "id": "cRFlrd4jvZvR"
      },
      "execution_count": null,
      "outputs": []
    },
    {
      "cell_type": "code",
      "source": [
        "account = web3.eth.account.from_key(private_key)\n",
        "\n",
        "web3.eth.default_account = account.address\n",
        "\n",
        "Election = web3.eth.contract(abi=abi, bytecode=bytecode)"
      ],
      "metadata": {
        "id": "WT0Xf_K0vJSU"
      },
      "execution_count": null,
      "outputs": []
    },
    {
      "cell_type": "code",
      "source": [
        "index = 8\n",
        "election_contract_args_list[index]"
      ],
      "metadata": {
        "colab": {
          "base_uri": "https://localhost:8080/"
        },
        "id": "TK8kja3B81cP",
        "outputId": "9c87861e-1dda-4b44-8047-99c140077149"
      },
      "execution_count": null,
      "outputs": [
        {
          "output_type": "execute_result",
          "data": {
            "text/plain": [
              "('General Mayor of Bucharest Municipality 2024',\n",
              " 'Romania',\n",
              " ['Gabriela Firea',\n",
              "  'Sebastian Burduja',\n",
              "  'Nicuşor Dan',\n",
              "  'Mihai Adrian Enache',\n",
              "  'Cristian Popescu Piedone',\n",
              "  'Diana Şoşoacă Iovanovici',\n",
              "  'Dorin Iacob',\n",
              "  'Alexandru Pânişoară',\n",
              "  'Filip Constantin Titian',\n",
              "  'VOT ALB'],\n",
              " ['CANDIDAT PSD',\n",
              "  'CANDIDAT PNL',\n",
              "  'CANDIDAT ALIANTA DREAPTA UNITA',\n",
              "  'CANDIDAT AUR',\n",
              "  'CANDIDAT PUSL',\n",
              "  'CANDIDAT S.O.S ROMANIA',\n",
              "  'CANDIDAT PARTIDUL ALTERNATIVA DREAPTA',\n",
              "  'CANDIDAT PARTIDUL ECOLOGIST ROMAN',\n",
              "  'CANDIDAT INDEPENDENT',\n",
              "  'VOT NUL'],\n",
              " ['0xF64b9169D8c7F989514b058BB8D86F6f9c55F9B9',\n",
              "  '0x7050095C9168a6d9207c6fbf9c1BC5b51551B144',\n",
              "  '0x6B1A6664db7E20c23bA99afA9aeD15fE3e2922Fa',\n",
              "  '0xDd6E8a60A2d8F8AaC2aBfa9e1Bd6e7107bF94C09'],\n",
              " 1722114000,\n",
              " 86400)"
            ]
          },
          "metadata": {},
          "execution_count": 62
        }
      ]
    },
    {
      "cell_type": "code",
      "source": [
        "constructor_args = election_contract_args_list[index]"
      ],
      "metadata": {
        "id": "A8_LqPrNUwsf"
      },
      "execution_count": null,
      "outputs": []
    },
    {
      "cell_type": "code",
      "source": [
        "contract_address = deploy_election_contract(Election, constructor_args)\n",
        "\n",
        "if(contract_address != \"\"):\n",
        "  election = {\n",
        "    'contractAddress' : contract_address,\n",
        "    'img' : '',\n",
        "    'testContract' : False\n",
        "  }\n",
        "\n",
        "  addElectionToDb(election)"
      ],
      "metadata": {
        "colab": {
          "base_uri": "https://localhost:8080/"
        },
        "id": "WvtkS3Ilt-hc",
        "outputId": "7b61177b-0d99-4dab-ede0-26b809c41c44"
      },
      "execution_count": null,
      "outputs": [
        {
          "output_type": "stream",
          "name": "stdout",
          "text": [
            "Estimated Gas: 1925254\n",
            "Estimated Price for transaction in eth: 0.13756211298515016\n",
            "Contract for \"General Mayor of Bucharest Municipality 2024\" deployed at address: 0xc312b1bD8f8E48D7a70cCb65FbA828D27edf081B\n"
          ]
        }
      ]
    },
    {
      "cell_type": "code",
      "source": [
        "latest_block = web3.eth.get_block('latest')\n",
        "base_fee = latest_block['baseFeePerGas']\n",
        "print(base_fee)\n",
        "max_priority_fee_per_gas = web3.to_wei(2, 'gwei')  # Set priority fee\n",
        "max_fee_per_gas = base_fee + max_priority_fee_per_gas * 2  # Set max fee\n",
        "print(max_fee_per_gas)"
      ],
      "metadata": {
        "colab": {
          "base_uri": "https://localhost:8080/"
        },
        "id": "B-VLjATMqWEa",
        "outputId": "4e69a849-7fa8-47c2-9ebd-b6a232f33761"
      },
      "execution_count": null,
      "outputs": [
        {
          "output_type": "stream",
          "name": "stdout",
          "text": [
            "108507624\n",
            "4108507624\n"
          ]
        }
      ]
    },
    {
      "cell_type": "markdown",
      "source": [
        "Aproximate Gas Price for voting"
      ],
      "metadata": {
        "id": "8qqIMLIZZDqA"
      }
    },
    {
      "cell_type": "code",
      "source": [
        "contract = web3.eth.contract(address=\"0x11D38C74b3702a197B3e03A5798701443852004F\", abi=abi)\n",
        "\n",
        "vote = contract.functions.vote(0)\n",
        "\n",
        "\n",
        "estimated_gas = vote.estimate_gas({'from': '0x6c861e635cD16c31624A7038308c97c78f97a28b'})\n",
        "\n",
        "print(estimated_gas)\n",
        "print(f'Estimated Gas: {estimated_gas}')\n",
        "\n",
        "\n",
        "gas_price = web3.eth.gas_price\n",
        "print(f'Current Gas Price (Wei): {gas_price}')\n",
        "\n",
        "\n",
        "cost_in_wei = estimated_gas * gas_price\n",
        "cost_in_eth = web3.from_wei(cost_in_wei, 'ether')\n",
        "print(f'Estimated Cost (ETH): {cost_in_eth}')"
      ],
      "metadata": {
        "colab": {
          "base_uri": "https://localhost:8080/"
        },
        "id": "Vs3LO2e0Z9d3",
        "outputId": "501078c3-e914-4457-fd6f-3aa7b6cc9984"
      },
      "execution_count": null,
      "outputs": [
        {
          "output_type": "stream",
          "name": "stdout",
          "text": [
            "84520\n",
            "Estimated Gas: 84520\n",
            "Current Gas Price (Wei): 172372556\n",
            "Estimated Cost (ETH): 0.00001456892843312\n"
          ]
        }
      ]
    },
    {
      "cell_type": "markdown",
      "source": [
        "Send for each eligible address"
      ],
      "metadata": {
        "id": "tK80xj8fhdZz"
      }
    },
    {
      "cell_type": "code",
      "source": [
        "buf = 10000\n",
        "amount = cost_in_wei + buf * gas_price"
      ],
      "metadata": {
        "id": "f0X47po2iYm0"
      },
      "execution_count": null,
      "outputs": []
    },
    {
      "cell_type": "code",
      "source": [
        "for voter in constructor_args[4]:\n",
        "  send_eth(voter, amount)"
      ],
      "metadata": {
        "colab": {
          "base_uri": "https://localhost:8080/"
        },
        "id": "b2-3JLzz0ZxE",
        "outputId": "193f2a07-fb03-4db2-e24d-41a8bcdf48b6"
      },
      "execution_count": null,
      "outputs": [
        {
          "output_type": "stream",
          "name": "stdout",
          "text": [
            "Transaction hash: 0x09ac800ed6d4ef0c1e81b713f117f34336fe8e1c2d004b9819dd0820357cbae5\n",
            "Transaction receipt: AttributeDict({'blockHash': HexBytes('0x47c6d7abd76bb159e34593885f90baf92b06dc4d1b2c9cae6e109f1b4c23b606'), 'blockNumber': 6146464, 'contractAddress': None, 'cumulativeGasUsed': 21000, 'effectiveGasPrice': 10000000000, 'from': '0x750FEbc563E5441eD92B0bBd9F2702561Ea8c582', 'gasUsed': 21000, 'logs': [], 'logsBloom': HexBytes('0x00000000000000000000000000000000000000000000000000000000000000000000000000000000000000000000000000000000000000000000000000000000000000000000000000000000000000000000000000000000000000000000000000000000000000000000000000000000000000000000000000000000000000000000000000000000000000000000000000000000000000000000000000000000000000000000000000000000000000000000000000000000000000000000000000000000000000000000000000000000000000000000000000000000000000000000000000000000000000000000000000000000000000000000000000000000'), 'status': 1, 'to': '0x93d66196B40362B73Acc38d4fEa055Fafff5E2bD', 'transactionHash': HexBytes('0x09ac800ed6d4ef0c1e81b713f117f34336fe8e1c2d004b9819dd0820357cbae5'), 'transactionIndex': 0, 'type': 0})\n",
            "Transaction hash: 0x12b53de130adcb1f7bfc49ab329876b2e8a5df5736498e77f5308f6696ab7504\n",
            "Transaction receipt: AttributeDict({'blockHash': HexBytes('0x163a358165496d97fe58cf159195d2b216a4a7219c5606bfd9d71f88275dbb8d'), 'blockNumber': 6146465, 'contractAddress': None, 'cumulativeGasUsed': 403317, 'effectiveGasPrice': 10000000000, 'from': '0x750FEbc563E5441eD92B0bBd9F2702561Ea8c582', 'gasUsed': 21000, 'logs': [], 'logsBloom': HexBytes('0x00000000000000000000000000000000000000000000000000000000000000000000000000000000000000000000000000000000000000000000000000000000000000000000000000000000000000000000000000000000000000000000000000000000000000000000000000000000000000000000000000000000000000000000000000000000000000000000000000000000000000000000000000000000000000000000000000000000000000000000000000000000000000000000000000000000000000000000000000000000000000000000000000000000000000000000000000000000000000000000000000000000000000000000000000000000'), 'status': 1, 'to': '0x6c861e635cD16c31624A7038308c97c78f97a28b', 'transactionHash': HexBytes('0x12b53de130adcb1f7bfc49ab329876b2e8a5df5736498e77f5308f6696ab7504'), 'transactionIndex': 6, 'type': 0})\n",
            "Transaction hash: 0x91d2c808c79371eb7b42fa57d7040345398d3af01a04d43901a4f8c10e8b5b32\n",
            "Transaction receipt: AttributeDict({'blockHash': HexBytes('0x7714502492e08128c90a7b4073451773d1d476f2b29f22fb6fa2b2e986f3b461'), 'blockNumber': 6146466, 'contractAddress': None, 'cumulativeGasUsed': 56625, 'effectiveGasPrice': 10000000000, 'from': '0x750FEbc563E5441eD92B0bBd9F2702561Ea8c582', 'gasUsed': 21000, 'logs': [], 'logsBloom': HexBytes('0x00000000000000000000000000000000000000000000000000000000000000000000000000000000000000000000000000000000000000000000000000000000000000000000000000000000000000000000000000000000000000000000000000000000000000000000000000000000000000000000000000000000000000000000000000000000000000000000000000000000000000000000000000000000000000000000000000000000000000000000000000000000000000000000000000000000000000000000000000000000000000000000000000000000000000000000000000000000000000000000000000000000000000000000000000000000'), 'status': 1, 'to': '0xF64b9169D8c7F989514b058BB8D86F6f9c55F9B9', 'transactionHash': HexBytes('0x91d2c808c79371eb7b42fa57d7040345398d3af01a04d43901a4f8c10e8b5b32'), 'transactionIndex': 1, 'type': 0})\n",
            "Transaction hash: 0x7be06dc8630f91317ce7b8abe01adc1fad0276d0b64f040e7cdf7eb29b9fa887\n",
            "Transaction receipt: AttributeDict({'blockHash': HexBytes('0x1aeef27961bdb69f431c1b077e8eb3229dc9ff7da049279e113e3b9ca2dc13c6'), 'blockNumber': 6146467, 'contractAddress': None, 'cumulativeGasUsed': 21000, 'effectiveGasPrice': 10000000000, 'from': '0x750FEbc563E5441eD92B0bBd9F2702561Ea8c582', 'gasUsed': 21000, 'logs': [], 'logsBloom': HexBytes('0x00000000000000000000000000000000000000000000000000000000000000000000000000000000000000000000000000000000000000000000000000000000000000000000000000000000000000000000000000000000000000000000000000000000000000000000000000000000000000000000000000000000000000000000000000000000000000000000000000000000000000000000000000000000000000000000000000000000000000000000000000000000000000000000000000000000000000000000000000000000000000000000000000000000000000000000000000000000000000000000000000000000000000000000000000000000'), 'status': 1, 'to': '0x7050095C9168a6d9207c6fbf9c1BC5b51551B144', 'transactionHash': HexBytes('0x7be06dc8630f91317ce7b8abe01adc1fad0276d0b64f040e7cdf7eb29b9fa887'), 'transactionIndex': 0, 'type': 0})\n",
            "Transaction hash: 0x79156ab338d680cecdaad60ef418a89f0f1135f18bdda16226529e406f43b936\n",
            "Transaction receipt: AttributeDict({'blockHash': HexBytes('0xe36128edfc7c1ee3aa1b2f8ee3a736284907e01302bc8c702c7cf35a916e8f95'), 'blockNumber': 6146468, 'contractAddress': None, 'cumulativeGasUsed': 21000, 'effectiveGasPrice': 10000000000, 'from': '0x750FEbc563E5441eD92B0bBd9F2702561Ea8c582', 'gasUsed': 21000, 'logs': [], 'logsBloom': HexBytes('0x00000000000000000000000000000000000000000000000000000000000000000000000000000000000000000000000000000000000000000000000000000000000000000000000000000000000000000000000000000000000000000000000000000000000000000000000000000000000000000000000000000000000000000000000000000000000000000000000000000000000000000000000000000000000000000000000000000000000000000000000000000000000000000000000000000000000000000000000000000000000000000000000000000000000000000000000000000000000000000000000000000000000000000000000000000000'), 'status': 1, 'to': '0x6B1A6664db7E20c23bA99afA9aeD15fE3e2922Fa', 'transactionHash': HexBytes('0x79156ab338d680cecdaad60ef418a89f0f1135f18bdda16226529e406f43b936'), 'transactionIndex': 0, 'type': 0})\n",
            "Transaction hash: 0x9b0c61e4980effcb82c6aca9a240b602c79eeadb9f9319b83c959d53bab1f1e8\n",
            "Transaction receipt: AttributeDict({'blockHash': HexBytes('0xfe99b7ac7113354c142d64130e7bfb93a9439c405f73f5005862c317c9686837'), 'blockNumber': 6146469, 'contractAddress': None, 'cumulativeGasUsed': 174495, 'effectiveGasPrice': 10000000000, 'from': '0x750FEbc563E5441eD92B0bBd9F2702561Ea8c582', 'gasUsed': 21000, 'logs': [], 'logsBloom': HexBytes('0x00000000000000000000000000000000000000000000000000000000000000000000000000000000000000000000000000000000000000000000000000000000000000000000000000000000000000000000000000000000000000000000000000000000000000000000000000000000000000000000000000000000000000000000000000000000000000000000000000000000000000000000000000000000000000000000000000000000000000000000000000000000000000000000000000000000000000000000000000000000000000000000000000000000000000000000000000000000000000000000000000000000000000000000000000000000'), 'status': 1, 'to': '0xDd6E8a60A2d8F8AaC2aBfa9e1Bd6e7107bF94C09', 'transactionHash': HexBytes('0x9b0c61e4980effcb82c6aca9a240b602c79eeadb9f9319b83c959d53bab1f1e8'), 'transactionIndex': 3, 'type': 0})\n"
          ]
        }
      ]
    },
    {
      "cell_type": "markdown",
      "source": [
        "# Private key creation, saving data to firestore db"
      ],
      "metadata": {
        "id": "ewDAUcrQpPdz"
      }
    },
    {
      "cell_type": "code",
      "source": [
        "num_wallets = 10\n",
        "\n",
        "wallets = generate_wallets(num_wallets)\n",
        "\n",
        "print(wallets)\n",
        "\n",
        "with open('Person-Wallet.json', 'w') as f:\n",
        "    json.dump(wallets, f, indent=2)"
      ],
      "metadata": {
        "colab": {
          "base_uri": "https://localhost:8080/"
        },
        "id": "fTtvESnF3hFf",
        "outputId": "e43801b4-4c65-4b75-d14f-ea7ae41393c9"
      },
      "execution_count": null,
      "outputs": [
        {
          "output_type": "stream",
          "name": "stdout",
          "text": [
            "[{'address': '0x138F43183D16Acf423f35b5da2A1AE1e8Bf0D237', 'private_key': '0x39fc1e9c7fee4ce40c7a0ede8086422bef2ddaf41bc3fc2f15734019f77b5afb'}, {'address': '0x91ddF14775B5D76859A44C5941ba11eAc2C9bA0A', 'private_key': '0x554a49d1101cb916767f1ce169c338525b9fabaafd41c16e3347152d26908002'}, {'address': '0x4a962523689C635Bf724A7a744FF7d9bc8aDf921', 'private_key': '0xdd308cb76c3bd0b9660a704e83df5727ab189e63874492e0e2f4166407c1b21c'}, {'address': '0xFF06305cda708983c60453Aa19657Bafd777f3E4', 'private_key': '0xd5644042511f1a9dc43fa0f67fba8584dd99afa1f35401c1750cf89cdf3484aa'}, {'address': '0x5a217dA74521F9Dfb39bEAb9B3a60C4019D6F5BF', 'private_key': '0xcd855453f2446c9805e1374f1ee74425f643f297b1b80a5633fd478bfa728190'}, {'address': '0xBFe782257328ed2e25c35ABAa5cEf2EA09bF10eF', 'private_key': '0xbf585bb555b9b6f93dff9cfdf670935c973476e2ccafcfb65e1d4de630ec2708'}, {'address': '0xc710947E80B29FA0A4d2805A43209EDa579acB66', 'private_key': '0xf09874daff2d923a0c31bb51ba74efbdc5b10a7d855f921e940766105bc152bc'}, {'address': '0xFcC7115c9f3570cD76372Ad1Fd608D28900c10b0', 'private_key': '0xdeb3cb28bdfd11f3a6a510207dfeec1cd1ae92fbc586293a8d862275c7aee6a3'}, {'address': '0xA87EB3309da8177e9e0E5D417ABcD8d01d28A19F', 'private_key': '0x86c496971c849aca39db791a003a2a2898fd9fe191edb29d23687ac01ac4dd03'}, {'address': '0xf6f5eDEDfaBA88e910FbBDcb3f586C1F1Fc5FBfC', 'private_key': '0xcac28642eab9514d1aadeb251ea59629e008c8df46ebf8a940f40a491c1ccb00'}]\n"
          ]
        }
      ]
    },
    {
      "cell_type": "code",
      "source": [
        "wallet_path = root_directory_path + 'Person-Wallet.json'"
      ],
      "metadata": {
        "id": "pmyfmgx52S6I"
      },
      "execution_count": null,
      "outputs": []
    },
    {
      "cell_type": "code",
      "source": [
        "wallet_data = readJsonFile(wallet_path)"
      ],
      "metadata": {
        "id": "-TnL_pgS3f2R"
      },
      "execution_count": null,
      "outputs": []
    },
    {
      "cell_type": "code",
      "source": [
        "wallet_collection = db.collection('wallet')"
      ],
      "metadata": {
        "id": "ckSJFdszfi0M"
      },
      "execution_count": null,
      "outputs": []
    },
    {
      "cell_type": "code",
      "source": [
        "keys = {}\n",
        "\n",
        "for i in wallet_data['person_wallet']:\n",
        "  wallet_address = i['address']\n",
        "  wallet_private_key = i['private_key']\n",
        "  wallet_owner = i['cnp']\n",
        "\n",
        "  # Generate RSA keys\n",
        "  private_key = rsa.generate_private_key(\n",
        "    public_exponent=65537,\n",
        "    key_size=2048,\n",
        "  )\n",
        "\n",
        "  public_key = private_key.public_key()\n",
        "\n",
        "\n",
        "  # Serialize private key\n",
        "  private_key_pem = private_key.private_bytes(\n",
        "    encoding=serialization.Encoding.PEM,\n",
        "    format=serialization.PrivateFormat.TraditionalOpenSSL,\n",
        "    encryption_algorithm=serialization.NoEncryption()\n",
        "  ).decode('utf-8')\n",
        "\n",
        "\n",
        "\n",
        "  wallet_private_key_enc = public_key.encrypt(\n",
        "    wallet_private_key.encode(),\n",
        "    padding.OAEP(\n",
        "        mgf=padding.MGF1(algorithm=hashes.SHA256()),\n",
        "        algorithm=hashes.SHA256(),\n",
        "        label=None\n",
        "    )\n",
        "  )\n",
        "\n",
        "  wallet_owner_enc = public_key.encrypt(\n",
        "    wallet_owner.encode(),\n",
        "    padding.OAEP(\n",
        "        mgf=padding.MGF1(algorithm=hashes.SHA256()),\n",
        "        algorithm=hashes.SHA256(),\n",
        "        label=None\n",
        "    )\n",
        "  )\n",
        "\n",
        "  wallet_address_enc = public_key.encrypt(\n",
        "    wallet_address.encode(),\n",
        "    padding.OAEP(\n",
        "        mgf=padding.MGF1(algorithm=hashes.SHA256()),\n",
        "        algorithm=hashes.SHA256(),\n",
        "        label=None\n",
        "    )\n",
        "  )\n",
        "\n",
        "  wallet_private_key_enc_base64 = base64.b64encode(wallet_private_key_enc).decode('utf-8')\n",
        "  wallet_owner_enc_base64 = base64.b64encode(wallet_owner_enc).decode('utf-8')\n",
        "  wallet_address_enc_base64 = base64.b64encode(wallet_address_enc).decode('utf-8')\n",
        "\n",
        "  wallet = {\n",
        "      \"owner\" : wallet_owner_enc_base64,\n",
        "      \"address\" : wallet_address_enc_base64,\n",
        "      \"privateKey\" :  wallet_private_key_enc_base64\n",
        "  }\n",
        "\n",
        "  wallet_ref =  wallet_collection.document()\n",
        "\n",
        "  wallet_ref.set(wallet)\n",
        "\n",
        "  d = {\n",
        "      wallet_owner : {\n",
        "          \"document_id\" : wallet_ref.id,\n",
        "          \"private_key\" : private_key_pem\n",
        "      }\n",
        "  }\n",
        "\n",
        "  keys.update(d)\n",
        "\n",
        "\n",
        "fernet_key = Fernet.generate_key()\n",
        "secret = {\n",
        "    \"fernet_key\" : fernet_key.decode(\"utf-8\"),\n",
        "    \"wallet_keys\" : keys\n",
        "}\n",
        "\n",
        "\n",
        "with open('secret.json', 'w') as f:\n",
        "    json.dump(secret, f, indent = len(wallet_data['person_wallet']) * 2 + 1)\n",
        "\n",
        "print(\"Secret saved to secret.json\")"
      ],
      "metadata": {
        "id": "KDDqlAfk4AVK"
      },
      "execution_count": null,
      "outputs": []
    }
  ]
}